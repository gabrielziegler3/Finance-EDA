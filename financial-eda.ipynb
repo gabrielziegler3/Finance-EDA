{
 "cells": [
  {
   "cell_type": "markdown",
   "metadata": {},
   "source": [
    "# Stock Financial Ratios Exploratory Data Analysis (EDA)\n",
    "\n",
    "`Author: Gabriel Ziegler. Data Scientist and Machine Learning Engineer.`\n",
    "\n",
    "This notebook is intended for those who want to learn more about financial ratios or more about Python and exploratory data analysis (or both).\n",
    "\n",
    "Inspired in [Get Up-to-Date Financial Ratios of Stocks Using Python](https://towardsdatascience.com/get-up-to-date-financial-ratios-p-e-p-b-and-more-of-stocks-using-python-4b53dd82908f)"
   ]
  },
  {
   "cell_type": "code",
   "execution_count": 106,
   "metadata": {},
   "outputs": [
    {
     "data": {
      "text/html": [
       "        <script type=\"text/javascript\">\n",
       "        window.PlotlyConfig = {MathJaxConfig: 'local'};\n",
       "        if (window.MathJax) {MathJax.Hub.Config({SVG: {font: \"STIX-Web\"}});}\n",
       "        if (typeof require !== 'undefined') {\n",
       "        require.undef(\"plotly\");\n",
       "        requirejs.config({\n",
       "            paths: {\n",
       "                'plotly': ['https://cdn.plot.ly/plotly-latest.min']\n",
       "            }\n",
       "        });\n",
       "        require(['plotly'], function(Plotly) {\n",
       "            window._Plotly = Plotly;\n",
       "        });\n",
       "        }\n",
       "        </script>\n",
       "        "
      ]
     },
     "metadata": {},
     "output_type": "display_data"
    }
   ],
   "source": [
    "import pandas as pd\n",
    "import requests\n",
    "import numpy as np\n",
    "import matplotlib\n",
    "import matplotlib.pyplot as plt\n",
    "import seaborn as sns\n",
    "import plotly.express as px\n",
    "import plotly.io as pio\n",
    "\n",
    "# To extract fundamental data\n",
    "from bs4 import BeautifulSoup as bs\n",
    "from plotly.offline import init_notebook_mode, iplot\n",
    "\n",
    "# Templates and defaults\n",
    "matplotlib.rcParams['figure.figsize'] = (15.0, 8.0)\n",
    "plt.style.use('ggplot')\n",
    "sns.set_context(\"notebook\")\n",
    "pio.templates.default = \"ggplot2\"\n",
    "pd.set_option('plotting.backend', 'plotly')\n",
    "init_notebook_mode(connected=True) # initiate notebook for offline plot"
   ]
  },
  {
   "cell_type": "markdown",
   "metadata": {},
   "source": [
    "# Functions to get and parse data from [FinViz](https://finviz.com/)\n",
    "\n",
    "* if you get a `401 Unauthorized` error from the page, you'll need to improve your headers"
   ]
  },
  {
   "cell_type": "code",
   "execution_count": 88,
   "metadata": {},
   "outputs": [],
   "source": [
    "# Needed so we won't get a 401 Unauthorized error. \n",
    "# This may need to be changed overtime as the website increases its non-human interaction detection. Are you human?\n",
    "headers = {\"User-Agent\": \"Mozilla/5.0 (Windows NT 6.1; WOW64; rv:20.0) Gecko/20100101 Firefox/20.0\"}\n",
    "url_prefix = \"http://finviz.com/quote.ashx?t=\"\n",
    "\n",
    "def fundamental_metric(soup, metric):\n",
    "    return soup.find(text=metric).find_next(class_='snapshot-td2').text\n",
    "\n",
    "def get_fundamental_data(df):\n",
    "    for symbol in df.index:\n",
    "        try:\n",
    "            url = (url_prefix + symbol.lower())\n",
    "            soup = bs(requests.get(url, headers=headers).content)\n",
    "            for m in df.columns:                \n",
    "                df.loc[symbol,m] = fundamental_metric(soup,m)                \n",
    "        except Exception as e:\n",
    "            print (symbol, 'not found')\n",
    "#     df = df.reset_index()\n",
    "#     df = df.rename(columns={'index': 'Company'})\n",
    "\n",
    "    return df\n",
    "\n",
    "def fancy_plot_metric(df, metric, title):\n",
    "    \"\"\"\n",
    "    Use plotly engine, but makes notebook a lot heavier in Mbs.\n",
    "    \"\"\"\n",
    "    fig = px.bar(df, x=df.index, y=metric, color=metric,\n",
    "           title=title)\n",
    "    fig.show()\n",
    "    \n",
    "def plot_metric(df, metric):\n",
    "    \"\"\"\n",
    "    Uses Seaborn to Bar plot around a given metric\n",
    "    \"\"\"\n",
    "    df = df.reset_index()\n",
    "    # Remove NaN companies     \n",
    "    df = df.dropna(subset=[metric])\n",
    "    sns.barplot(x=df[\"index\"], y=df[metric], data=df, palette=\"Blues_d\")\n",
    "    plt.show()\n",
    "    \n",
    "def plot_correlation(corr, classes, normalized=True, cmap='bone'):\n",
    "    norm_corr = corr\n",
    "    if normalized:\n",
    "        norm_corr = corr.astype('float') / corr.sum(axis=1)[:, np.newaxis]\n",
    "\n",
    "    sns.heatmap(norm_corr, annot=corr, fmt='.0%', xticklabels=classes, yticklabels=classes, cmap=cmap)"
   ]
  },
  {
   "cell_type": "markdown",
   "metadata": {},
   "source": [
    "# Stocks list\n",
    "\n",
    "We're going to look into some of the biggest companies in the `tech` and `financial` US industries."
   ]
  },
  {
   "cell_type": "code",
   "execution_count": 89,
   "metadata": {},
   "outputs": [
    {
     "name": "stdout",
     "output_type": "stream",
     "text": [
      "12 12\n"
     ]
    }
   ],
   "source": [
    "tech_stocks = ['AAPL','AMZN','GOOG','FB','MSFT', 'NFLX', 'IBM', 'INTC', 'NVDA', 'CSCO', 'V', 'MA']\n",
    "financial_stocks = ['BRK-A', 'JPM', 'BAC', 'C', 'MS', 'WFC', 'GS', 'AXP', 'BLK', 'USB', 'CME', 'TFC']\n",
    "print(len(tech_stocks), len(financial_stocks))\n",
    "stock_list = tech_stocks + financial_stocks"
   ]
  },
  {
   "cell_type": "markdown",
   "metadata": {},
   "source": [
    "# Metrics list\n",
    "\n",
    "Note that these metrics should be used to compare **companies throughout the same industry**.\n",
    "\n",
    "We'll look closer at two different markets to see how they differ in some metrics. \n",
    "\n",
    "## Reference\n",
    "\n",
    "[1] [Investopedia: 5 Must Have Metrics](https://www.investopedia.com/articles/fundamental-analysis/09/five-must-have-metrics-value-investors.asp)"
   ]
  },
  {
   "cell_type": "code",
   "execution_count": 108,
   "metadata": {},
   "outputs": [],
   "source": [
    "metric = [\n",
    "    'P/B',\n",
    "    'P/E',\n",
    "    'Forward P/E',\n",
    "    'PEG',\n",
    "    'Debt/Eq',\n",
    "    'EPS (ttm)',\n",
    "    'Dividend %',\n",
    "    'ROE',\n",
    "    'ROI',\n",
    "    'EPS Q/Q',\n",
    "    'Insider Own',\n",
    "    'Price'\n",
    "]"
   ]
  },
  {
   "cell_type": "markdown",
   "metadata": {},
   "source": [
    "# Add indicators to DataFrame"
   ]
  },
  {
   "cell_type": "code",
   "execution_count": 109,
   "metadata": {},
   "outputs": [
    {
     "data": {
      "text/html": [
       "<div>\n",
       "<style scoped>\n",
       "    .dataframe tbody tr th:only-of-type {\n",
       "        vertical-align: middle;\n",
       "    }\n",
       "\n",
       "    .dataframe tbody tr th {\n",
       "        vertical-align: top;\n",
       "    }\n",
       "\n",
       "    .dataframe thead th {\n",
       "        text-align: right;\n",
       "    }\n",
       "</style>\n",
       "<table border=\"1\" class=\"dataframe\">\n",
       "  <thead>\n",
       "    <tr style=\"text-align: right;\">\n",
       "      <th></th>\n",
       "      <th>P/B</th>\n",
       "      <th>P/E</th>\n",
       "      <th>Forward P/E</th>\n",
       "      <th>PEG</th>\n",
       "      <th>Debt/Eq</th>\n",
       "      <th>EPS (ttm)</th>\n",
       "      <th>Dividend %</th>\n",
       "      <th>ROE</th>\n",
       "      <th>ROI</th>\n",
       "      <th>EPS Q/Q</th>\n",
       "      <th>Insider Own</th>\n",
       "      <th>Price</th>\n",
       "    </tr>\n",
       "  </thead>\n",
       "  <tbody>\n",
       "    <tr>\n",
       "      <th>AAPL</th>\n",
       "      <td>28.05</td>\n",
       "      <td>35.73</td>\n",
       "      <td>30.33</td>\n",
       "      <td>2.84</td>\n",
       "      <td>1.57</td>\n",
       "      <td>3.29</td>\n",
       "      <td>0.70%</td>\n",
       "      <td>70.70%</td>\n",
       "      <td>26.90%</td>\n",
       "      <td>18.40%</td>\n",
       "      <td>0.07%</td>\n",
       "      <td>117.56</td>\n",
       "    </tr>\n",
       "    <tr>\n",
       "      <th>AMZN</th>\n",
       "      <td>21.82</td>\n",
       "      <td>123.66</td>\n",
       "      <td>72.49</td>\n",
       "      <td>3.43</td>\n",
       "      <td>0.69</td>\n",
       "      <td>26.02</td>\n",
       "      <td>-</td>\n",
       "      <td>20.50%</td>\n",
       "      <td>11.70%</td>\n",
       "      <td>97.40%</td>\n",
       "      <td>10.90%</td>\n",
       "      <td>3201.00</td>\n",
       "    </tr>\n",
       "    <tr>\n",
       "      <th>GOOG</th>\n",
       "      <td>5.11</td>\n",
       "      <td>34.20</td>\n",
       "      <td>27.57</td>\n",
       "      <td>7.11</td>\n",
       "      <td>-</td>\n",
       "      <td>45.49</td>\n",
       "      <td>-</td>\n",
       "      <td>-</td>\n",
       "      <td>-</td>\n",
       "      <td>-30.00%</td>\n",
       "      <td>5.75%</td>\n",
       "      <td>1605.67</td>\n",
       "    </tr>\n",
       "    <tr>\n",
       "      <th>FB</th>\n",
       "      <td>6.90</td>\n",
       "      <td>34.14</td>\n",
       "      <td>26.27</td>\n",
       "      <td>1.68</td>\n",
       "      <td>0.00</td>\n",
       "      <td>7.84</td>\n",
       "      <td>-</td>\n",
       "      <td>22.90%</td>\n",
       "      <td>17.40%</td>\n",
       "      <td>97.70%</td>\n",
       "      <td>0.66%</td>\n",
       "      <td>281.27</td>\n",
       "    </tr>\n",
       "    <tr>\n",
       "      <th>MSFT</th>\n",
       "      <td>13.76</td>\n",
       "      <td>37.24</td>\n",
       "      <td>29.30</td>\n",
       "      <td>2.49</td>\n",
       "      <td>0.62</td>\n",
       "      <td>5.76</td>\n",
       "      <td>1.04%</td>\n",
       "      <td>39.50%</td>\n",
       "      <td>23.10%</td>\n",
       "      <td>-14.10%</td>\n",
       "      <td>0.10%</td>\n",
       "      <td>216.42</td>\n",
       "    </tr>\n",
       "    <tr>\n",
       "      <th>NFLX</th>\n",
       "      <td>24.80</td>\n",
       "      <td>93.08</td>\n",
       "      <td>59.48</td>\n",
       "      <td>2.46</td>\n",
       "      <td>1.69</td>\n",
       "      <td>5.65</td>\n",
       "      <td>-</td>\n",
       "      <td>33.30%</td>\n",
       "      <td>10.20%</td>\n",
       "      <td>165.10%</td>\n",
       "      <td>1.62%</td>\n",
       "      <td>491.72</td>\n",
       "    </tr>\n",
       "    <tr>\n",
       "      <th>IBM</th>\n",
       "      <td>5.08</td>\n",
       "      <td>13.08</td>\n",
       "      <td>9.63</td>\n",
       "      <td>4.59</td>\n",
       "      <td>3.15</td>\n",
       "      <td>8.97</td>\n",
       "      <td>5.56%</td>\n",
       "      <td>39.70%</td>\n",
       "      <td>11.40%</td>\n",
       "      <td>-46.10%</td>\n",
       "      <td>0.10%</td>\n",
       "      <td>115.76</td>\n",
       "    </tr>\n",
       "    <tr>\n",
       "      <th>INTC</th>\n",
       "      <td>2.77</td>\n",
       "      <td>9.83</td>\n",
       "      <td>11.34</td>\n",
       "      <td>1.14</td>\n",
       "      <td>0.47</td>\n",
       "      <td>5.44</td>\n",
       "      <td>2.47%</td>\n",
       "      <td>30.50%</td>\n",
       "      <td>17.80%</td>\n",
       "      <td>29.00%</td>\n",
       "      <td>0.05%</td>\n",
       "      <td>53.97</td>\n",
       "    </tr>\n",
       "    <tr>\n",
       "      <th>NVDA</th>\n",
       "      <td>24.16</td>\n",
       "      <td>100.08</td>\n",
       "      <td>49.24</td>\n",
       "      <td>5.74</td>\n",
       "      <td>0.00</td>\n",
       "      <td>5.45</td>\n",
       "      <td>0.12%</td>\n",
       "      <td>26.90%</td>\n",
       "      <td>18.80%</td>\n",
       "      <td>10.90%</td>\n",
       "      <td>0.30%</td>\n",
       "      <td>543.64</td>\n",
       "    </tr>\n",
       "    <tr>\n",
       "      <th>CSCO</th>\n",
       "      <td>4.37</td>\n",
       "      <td>14.87</td>\n",
       "      <td>11.80</td>\n",
       "      <td>2.41</td>\n",
       "      <td>0.38</td>\n",
       "      <td>2.64</td>\n",
       "      <td>3.67%</td>\n",
       "      <td>31.20%</td>\n",
       "      <td>20.70%</td>\n",
       "      <td>-11.80%</td>\n",
       "      <td>0.10%</td>\n",
       "      <td>39.31</td>\n",
       "    </tr>\n",
       "    <tr>\n",
       "      <th>V</th>\n",
       "      <td>12.95</td>\n",
       "      <td>37.59</td>\n",
       "      <td>34.02</td>\n",
       "      <td>4.37</td>\n",
       "      <td>0.69</td>\n",
       "      <td>5.26</td>\n",
       "      <td>0.61%</td>\n",
       "      <td>38.30%</td>\n",
       "      <td>26.50%</td>\n",
       "      <td>-21.70%</td>\n",
       "      <td>0.20%</td>\n",
       "      <td>199.49</td>\n",
       "    </tr>\n",
       "    <tr>\n",
       "      <th>MA</th>\n",
       "      <td>51.51</td>\n",
       "      <td>46.07</td>\n",
       "      <td>38.25</td>\n",
       "      <td>4.15</td>\n",
       "      <td>0.00</td>\n",
       "      <td>7.20</td>\n",
       "      <td>0.48%</td>\n",
       "      <td>128.90%</td>\n",
       "      <td>55.60%</td>\n",
       "      <td>-29.50%</td>\n",
       "      <td>11.10%</td>\n",
       "      <td>335.21</td>\n",
       "    </tr>\n",
       "    <tr>\n",
       "      <th>BRK-A</th>\n",
       "      <td>1.29</td>\n",
       "      <td>23.04</td>\n",
       "      <td>20.10</td>\n",
       "      <td>-</td>\n",
       "      <td>0.27</td>\n",
       "      <td>13690.62</td>\n",
       "      <td>-</td>\n",
       "      <td>5.60%</td>\n",
       "      <td>1.50%</td>\n",
       "      <td>89.50%</td>\n",
       "      <td>41.74%</td>\n",
       "      <td>316878.91</td>\n",
       "    </tr>\n",
       "    <tr>\n",
       "      <th>JPM</th>\n",
       "      <td>1.32</td>\n",
       "      <td>13.10</td>\n",
       "      <td>11.29</td>\n",
       "      <td>-</td>\n",
       "      <td>1.35</td>\n",
       "      <td>7.66</td>\n",
       "      <td>3.59%</td>\n",
       "      <td>12.10%</td>\n",
       "      <td>8.30%</td>\n",
       "      <td>-50.90%</td>\n",
       "      <td>0.10%</td>\n",
       "      <td>100.17</td>\n",
       "    </tr>\n",
       "    <tr>\n",
       "      <th>BAC</th>\n",
       "      <td>0.87</td>\n",
       "      <td>11.93</td>\n",
       "      <td>11.92</td>\n",
       "      <td>-</td>\n",
       "      <td>0.00</td>\n",
       "      <td>2.02</td>\n",
       "      <td>2.98%</td>\n",
       "      <td>9.30%</td>\n",
       "      <td>6.00%</td>\n",
       "      <td>-49.60%</td>\n",
       "      <td>0.10%</td>\n",
       "      <td>24.15</td>\n",
       "    </tr>\n",
       "    <tr>\n",
       "      <th>C</th>\n",
       "      <td>0.52</td>\n",
       "      <td>8.50</td>\n",
       "      <td>7.88</td>\n",
       "      <td>-</td>\n",
       "      <td>1.51</td>\n",
       "      <td>5.12</td>\n",
       "      <td>4.69%</td>\n",
       "      <td>-</td>\n",
       "      <td>8.30%</td>\n",
       "      <td>-87.10%</td>\n",
       "      <td>0.25%</td>\n",
       "      <td>43.21</td>\n",
       "    </tr>\n",
       "    <tr>\n",
       "      <th>MS</th>\n",
       "      <td>1.02</td>\n",
       "      <td>8.68</td>\n",
       "      <td>10.04</td>\n",
       "      <td>2.34</td>\n",
       "      <td>6.45</td>\n",
       "      <td>5.93</td>\n",
       "      <td>2.72%</td>\n",
       "      <td>10.30%</td>\n",
       "      <td>1.80%</td>\n",
       "      <td>59.50%</td>\n",
       "      <td>0.20%</td>\n",
       "      <td>50.95</td>\n",
       "    </tr>\n",
       "    <tr>\n",
       "      <th>WFC</th>\n",
       "      <td>0.59</td>\n",
       "      <td>61.32</td>\n",
       "      <td>12.06</td>\n",
       "      <td>4.58</td>\n",
       "      <td>1.46</td>\n",
       "      <td>0.37</td>\n",
       "      <td>1.75%</td>\n",
       "      <td>7.60%</td>\n",
       "      <td>10.30%</td>\n",
       "      <td>-150.40%</td>\n",
       "      <td>0.13%</td>\n",
       "      <td>22.88</td>\n",
       "    </tr>\n",
       "    <tr>\n",
       "      <th>GS</th>\n",
       "      <td>0.94</td>\n",
       "      <td>15.82</td>\n",
       "      <td>8.74</td>\n",
       "      <td>1.83</td>\n",
       "      <td>8.45</td>\n",
       "      <td>13.15</td>\n",
       "      <td>2.40%</td>\n",
       "      <td>6.00%</td>\n",
       "      <td>1.30%</td>\n",
       "      <td>-90.50%</td>\n",
       "      <td>0.60%</td>\n",
       "      <td>204.12</td>\n",
       "    </tr>\n",
       "    <tr>\n",
       "      <th>AXP</th>\n",
       "      <td>3.94</td>\n",
       "      <td>21.36</td>\n",
       "      <td>15.21</td>\n",
       "      <td>2.27</td>\n",
       "      <td>6.42</td>\n",
       "      <td>4.83</td>\n",
       "      <td>1.67%</td>\n",
       "      <td>17.90%</td>\n",
       "      <td>4.20%</td>\n",
       "      <td>-85.70%</td>\n",
       "      <td>0.10%</td>\n",
       "      <td>101.77</td>\n",
       "    </tr>\n",
       "    <tr>\n",
       "      <th>BLK</th>\n",
       "      <td>3.03</td>\n",
       "      <td>22.71</td>\n",
       "      <td>18.64</td>\n",
       "      <td>2.29</td>\n",
       "      <td>0.22</td>\n",
       "      <td>28.40</td>\n",
       "      <td>2.25%</td>\n",
       "      <td>13.50%</td>\n",
       "      <td>11.10%</td>\n",
       "      <td>22.30%</td>\n",
       "      <td>1.50%</td>\n",
       "      <td>639.65</td>\n",
       "    </tr>\n",
       "    <tr>\n",
       "      <th>USB</th>\n",
       "      <td>1.29</td>\n",
       "      <td>12.99</td>\n",
       "      <td>12.68</td>\n",
       "      <td>6.41</td>\n",
       "      <td>0.93</td>\n",
       "      <td>3.02</td>\n",
       "      <td>4.28%</td>\n",
       "      <td>13.10%</td>\n",
       "      <td>11.70%</td>\n",
       "      <td>-62.70%</td>\n",
       "      <td>0.09%</td>\n",
       "      <td>39.07</td>\n",
       "    </tr>\n",
       "    <tr>\n",
       "      <th>CME</th>\n",
       "      <td>2.18</td>\n",
       "      <td>24.61</td>\n",
       "      <td>23.32</td>\n",
       "      <td>5.80</td>\n",
       "      <td>0.13</td>\n",
       "      <td>6.63</td>\n",
       "      <td>2.08%</td>\n",
       "      <td>8.90%</td>\n",
       "      <td>6.70%</td>\n",
       "      <td>-2.10%</td>\n",
       "      <td>0.30%</td>\n",
       "      <td>164.32</td>\n",
       "    </tr>\n",
       "    <tr>\n",
       "      <th>TFC</th>\n",
       "      <td>0.92</td>\n",
       "      <td>14.38</td>\n",
       "      <td>12.04</td>\n",
       "      <td>-</td>\n",
       "      <td>0.64</td>\n",
       "      <td>2.93</td>\n",
       "      <td>4.28%</td>\n",
       "      <td>6.10%</td>\n",
       "      <td>6.00%</td>\n",
       "      <td>-38.80%</td>\n",
       "      <td>0.10%</td>\n",
       "      <td>41.90</td>\n",
       "    </tr>\n",
       "  </tbody>\n",
       "</table>\n",
       "</div>"
      ],
      "text/plain": [
       "         P/B     P/E Forward P/E   PEG Debt/Eq EPS (ttm) Dividend %      ROE  \\\n",
       "AAPL   28.05   35.73       30.33  2.84    1.57      3.29      0.70%   70.70%   \n",
       "AMZN   21.82  123.66       72.49  3.43    0.69     26.02          -   20.50%   \n",
       "GOOG    5.11   34.20       27.57  7.11       -     45.49          -        -   \n",
       "FB      6.90   34.14       26.27  1.68    0.00      7.84          -   22.90%   \n",
       "MSFT   13.76   37.24       29.30  2.49    0.62      5.76      1.04%   39.50%   \n",
       "NFLX   24.80   93.08       59.48  2.46    1.69      5.65          -   33.30%   \n",
       "IBM     5.08   13.08        9.63  4.59    3.15      8.97      5.56%   39.70%   \n",
       "INTC    2.77    9.83       11.34  1.14    0.47      5.44      2.47%   30.50%   \n",
       "NVDA   24.16  100.08       49.24  5.74    0.00      5.45      0.12%   26.90%   \n",
       "CSCO    4.37   14.87       11.80  2.41    0.38      2.64      3.67%   31.20%   \n",
       "V      12.95   37.59       34.02  4.37    0.69      5.26      0.61%   38.30%   \n",
       "MA     51.51   46.07       38.25  4.15    0.00      7.20      0.48%  128.90%   \n",
       "BRK-A   1.29   23.04       20.10     -    0.27  13690.62          -    5.60%   \n",
       "JPM     1.32   13.10       11.29     -    1.35      7.66      3.59%   12.10%   \n",
       "BAC     0.87   11.93       11.92     -    0.00      2.02      2.98%    9.30%   \n",
       "C       0.52    8.50        7.88     -    1.51      5.12      4.69%        -   \n",
       "MS      1.02    8.68       10.04  2.34    6.45      5.93      2.72%   10.30%   \n",
       "WFC     0.59   61.32       12.06  4.58    1.46      0.37      1.75%    7.60%   \n",
       "GS      0.94   15.82        8.74  1.83    8.45     13.15      2.40%    6.00%   \n",
       "AXP     3.94   21.36       15.21  2.27    6.42      4.83      1.67%   17.90%   \n",
       "BLK     3.03   22.71       18.64  2.29    0.22     28.40      2.25%   13.50%   \n",
       "USB     1.29   12.99       12.68  6.41    0.93      3.02      4.28%   13.10%   \n",
       "CME     2.18   24.61       23.32  5.80    0.13      6.63      2.08%    8.90%   \n",
       "TFC     0.92   14.38       12.04     -    0.64      2.93      4.28%    6.10%   \n",
       "\n",
       "          ROI   EPS Q/Q Insider Own      Price  \n",
       "AAPL   26.90%    18.40%       0.07%     117.56  \n",
       "AMZN   11.70%    97.40%      10.90%    3201.00  \n",
       "GOOG        -   -30.00%       5.75%    1605.67  \n",
       "FB     17.40%    97.70%       0.66%     281.27  \n",
       "MSFT   23.10%   -14.10%       0.10%     216.42  \n",
       "NFLX   10.20%   165.10%       1.62%     491.72  \n",
       "IBM    11.40%   -46.10%       0.10%     115.76  \n",
       "INTC   17.80%    29.00%       0.05%      53.97  \n",
       "NVDA   18.80%    10.90%       0.30%     543.64  \n",
       "CSCO   20.70%   -11.80%       0.10%      39.31  \n",
       "V      26.50%   -21.70%       0.20%     199.49  \n",
       "MA     55.60%   -29.50%      11.10%     335.21  \n",
       "BRK-A   1.50%    89.50%      41.74%  316878.91  \n",
       "JPM     8.30%   -50.90%       0.10%     100.17  \n",
       "BAC     6.00%   -49.60%       0.10%      24.15  \n",
       "C       8.30%   -87.10%       0.25%      43.21  \n",
       "MS      1.80%    59.50%       0.20%      50.95  \n",
       "WFC    10.30%  -150.40%       0.13%      22.88  \n",
       "GS      1.30%   -90.50%       0.60%     204.12  \n",
       "AXP     4.20%   -85.70%       0.10%     101.77  \n",
       "BLK    11.10%    22.30%       1.50%     639.65  \n",
       "USB    11.70%   -62.70%       0.09%      39.07  \n",
       "CME     6.70%    -2.10%       0.30%     164.32  \n",
       "TFC     6.00%   -38.80%       0.10%      41.90  "
      ]
     },
     "execution_count": 109,
     "metadata": {},
     "output_type": "execute_result"
    }
   ],
   "source": [
    "raw_df = pd.DataFrame(index=stock_list, columns=metric)\n",
    "raw_df = get_fundamental_data(raw_df)\n",
    "raw_df"
   ]
  },
  {
   "cell_type": "markdown",
   "metadata": {},
   "source": [
    "# Preprocess numerical information"
   ]
  },
  {
   "cell_type": "code",
   "execution_count": 115,
   "metadata": {},
   "outputs": [
    {
     "data": {
      "text/html": [
       "<div>\n",
       "<style scoped>\n",
       "    .dataframe tbody tr th:only-of-type {\n",
       "        vertical-align: middle;\n",
       "    }\n",
       "\n",
       "    .dataframe tbody tr th {\n",
       "        vertical-align: top;\n",
       "    }\n",
       "\n",
       "    .dataframe thead th {\n",
       "        text-align: right;\n",
       "    }\n",
       "</style>\n",
       "<table border=\"1\" class=\"dataframe\">\n",
       "  <thead>\n",
       "    <tr style=\"text-align: right;\">\n",
       "      <th></th>\n",
       "      <th>P/B</th>\n",
       "      <th>P/E</th>\n",
       "      <th>Forward P/E</th>\n",
       "      <th>PEG</th>\n",
       "      <th>Debt/Eq</th>\n",
       "      <th>EPS (ttm)</th>\n",
       "      <th>Dividend %</th>\n",
       "      <th>ROE</th>\n",
       "      <th>ROI</th>\n",
       "      <th>EPS Q/Q</th>\n",
       "      <th>Insider Own</th>\n",
       "      <th>Price</th>\n",
       "    </tr>\n",
       "  </thead>\n",
       "  <tbody>\n",
       "    <tr>\n",
       "      <th>AAPL</th>\n",
       "      <td>28.05</td>\n",
       "      <td>35.73</td>\n",
       "      <td>30.33</td>\n",
       "      <td>2.84</td>\n",
       "      <td>1.57</td>\n",
       "      <td>3.29</td>\n",
       "      <td>0.70</td>\n",
       "      <td>70.7</td>\n",
       "      <td>26.9</td>\n",
       "      <td>18.4</td>\n",
       "      <td>0.07</td>\n",
       "      <td>117.56</td>\n",
       "    </tr>\n",
       "    <tr>\n",
       "      <th>AMZN</th>\n",
       "      <td>21.82</td>\n",
       "      <td>123.66</td>\n",
       "      <td>72.49</td>\n",
       "      <td>3.43</td>\n",
       "      <td>0.69</td>\n",
       "      <td>26.02</td>\n",
       "      <td>NaN</td>\n",
       "      <td>20.5</td>\n",
       "      <td>11.7</td>\n",
       "      <td>97.4</td>\n",
       "      <td>10.90</td>\n",
       "      <td>3201.00</td>\n",
       "    </tr>\n",
       "    <tr>\n",
       "      <th>GOOG</th>\n",
       "      <td>5.11</td>\n",
       "      <td>34.20</td>\n",
       "      <td>27.57</td>\n",
       "      <td>7.11</td>\n",
       "      <td>NaN</td>\n",
       "      <td>45.49</td>\n",
       "      <td>NaN</td>\n",
       "      <td>NaN</td>\n",
       "      <td>NaN</td>\n",
       "      <td>-30.0</td>\n",
       "      <td>5.75</td>\n",
       "      <td>1605.67</td>\n",
       "    </tr>\n",
       "    <tr>\n",
       "      <th>FB</th>\n",
       "      <td>6.90</td>\n",
       "      <td>34.14</td>\n",
       "      <td>26.27</td>\n",
       "      <td>1.68</td>\n",
       "      <td>0.00</td>\n",
       "      <td>7.84</td>\n",
       "      <td>NaN</td>\n",
       "      <td>22.9</td>\n",
       "      <td>17.4</td>\n",
       "      <td>97.7</td>\n",
       "      <td>0.66</td>\n",
       "      <td>281.27</td>\n",
       "    </tr>\n",
       "    <tr>\n",
       "      <th>MSFT</th>\n",
       "      <td>13.76</td>\n",
       "      <td>37.24</td>\n",
       "      <td>29.30</td>\n",
       "      <td>2.49</td>\n",
       "      <td>0.62</td>\n",
       "      <td>5.76</td>\n",
       "      <td>1.04</td>\n",
       "      <td>39.5</td>\n",
       "      <td>23.1</td>\n",
       "      <td>-14.1</td>\n",
       "      <td>0.10</td>\n",
       "      <td>216.42</td>\n",
       "    </tr>\n",
       "  </tbody>\n",
       "</table>\n",
       "</div>"
      ],
      "text/plain": [
       "        P/B     P/E  Forward P/E   PEG  Debt/Eq  EPS (ttm)  Dividend %   ROE  \\\n",
       "AAPL  28.05   35.73        30.33  2.84     1.57       3.29        0.70  70.7   \n",
       "AMZN  21.82  123.66        72.49  3.43     0.69      26.02         NaN  20.5   \n",
       "GOOG   5.11   34.20        27.57  7.11      NaN      45.49         NaN   NaN   \n",
       "FB     6.90   34.14        26.27  1.68     0.00       7.84         NaN  22.9   \n",
       "MSFT  13.76   37.24        29.30  2.49     0.62       5.76        1.04  39.5   \n",
       "\n",
       "       ROI  EPS Q/Q  Insider Own    Price  \n",
       "AAPL  26.9     18.4         0.07   117.56  \n",
       "AMZN  11.7     97.4        10.90  3201.00  \n",
       "GOOG   NaN    -30.0         5.75  1605.67  \n",
       "FB    17.4     97.7         0.66   281.27  \n",
       "MSFT  23.1    -14.1         0.10   216.42  "
      ]
     },
     "execution_count": 115,
     "metadata": {},
     "output_type": "execute_result"
    }
   ],
   "source": [
    "df = raw_df.copy()\n",
    "df['Dividend %'] = df['Dividend %'].str.replace('%', '')\n",
    "df['ROE'] = df['ROE'].str.replace('%', '')\n",
    "df['ROI'] = df['ROI'].str.replace('%', '')\n",
    "df['EPS Q/Q'] = df['EPS Q/Q'].str.replace('%', '')\n",
    "df['Insider Own'] = df['Insider Own'].str.replace('%', '')\n",
    "df = df.apply(pd.to_numeric, errors='coerce')\n",
    "df.head()"
   ]
  },
  {
   "cell_type": "markdown",
   "metadata": {},
   "source": [
    "# Feature Engineering\n",
    "\n",
    "Some features extracted are best interpreted if we tweak them a little bit.\n",
    "For instance, Berkshire Hathaway's Earnings-per-share (EPS) is extremely unbalanced compared to other finacial companies.\n",
    "So instead of using the raw EPS value, we'll create a new metric called *earnings-per-hundred-dollars-worth-of-share* (EPS ($100)).  \n",
    "\n",
    "## Reference\n",
    "\n",
    "[1] [Money StackExchange - Why is BRK.A's EPS (ttm) so high?](https://money.stackexchange.com/questions/132139/why-is-brk-as-eps-ttm-so-high/132141#132141)"
   ]
  },
  {
   "cell_type": "code",
   "execution_count": 120,
   "metadata": {},
   "outputs": [
    {
     "data": {
      "text/html": [
       "<div>\n",
       "<style scoped>\n",
       "    .dataframe tbody tr th:only-of-type {\n",
       "        vertical-align: middle;\n",
       "    }\n",
       "\n",
       "    .dataframe tbody tr th {\n",
       "        vertical-align: top;\n",
       "    }\n",
       "\n",
       "    .dataframe thead th {\n",
       "        text-align: right;\n",
       "    }\n",
       "</style>\n",
       "<table border=\"1\" class=\"dataframe\">\n",
       "  <thead>\n",
       "    <tr style=\"text-align: right;\">\n",
       "      <th></th>\n",
       "      <th>P/B</th>\n",
       "      <th>P/E</th>\n",
       "      <th>Forward P/E</th>\n",
       "      <th>PEG</th>\n",
       "      <th>Debt/Eq</th>\n",
       "      <th>EPS (ttm)</th>\n",
       "      <th>Dividend %</th>\n",
       "      <th>ROE</th>\n",
       "      <th>ROI</th>\n",
       "      <th>EPS Q/Q</th>\n",
       "      <th>Insider Own</th>\n",
       "      <th>Price</th>\n",
       "      <th>EPS (ttm per $100)</th>\n",
       "    </tr>\n",
       "  </thead>\n",
       "  <tbody>\n",
       "    <tr>\n",
       "      <th>AAPL</th>\n",
       "      <td>28.05</td>\n",
       "      <td>35.73</td>\n",
       "      <td>30.33</td>\n",
       "      <td>2.84</td>\n",
       "      <td>1.57</td>\n",
       "      <td>3.29</td>\n",
       "      <td>0.70</td>\n",
       "      <td>70.7</td>\n",
       "      <td>26.9</td>\n",
       "      <td>18.4</td>\n",
       "      <td>0.07</td>\n",
       "      <td>117.56</td>\n",
       "      <td>2.798571</td>\n",
       "    </tr>\n",
       "    <tr>\n",
       "      <th>AMZN</th>\n",
       "      <td>21.82</td>\n",
       "      <td>123.66</td>\n",
       "      <td>72.49</td>\n",
       "      <td>3.43</td>\n",
       "      <td>0.69</td>\n",
       "      <td>26.02</td>\n",
       "      <td>NaN</td>\n",
       "      <td>20.5</td>\n",
       "      <td>11.7</td>\n",
       "      <td>97.4</td>\n",
       "      <td>10.90</td>\n",
       "      <td>3201.00</td>\n",
       "      <td>0.812871</td>\n",
       "    </tr>\n",
       "    <tr>\n",
       "      <th>GOOG</th>\n",
       "      <td>5.11</td>\n",
       "      <td>34.20</td>\n",
       "      <td>27.57</td>\n",
       "      <td>7.11</td>\n",
       "      <td>NaN</td>\n",
       "      <td>45.49</td>\n",
       "      <td>NaN</td>\n",
       "      <td>NaN</td>\n",
       "      <td>NaN</td>\n",
       "      <td>-30.0</td>\n",
       "      <td>5.75</td>\n",
       "      <td>1605.67</td>\n",
       "      <td>2.833085</td>\n",
       "    </tr>\n",
       "    <tr>\n",
       "      <th>FB</th>\n",
       "      <td>6.90</td>\n",
       "      <td>34.14</td>\n",
       "      <td>26.27</td>\n",
       "      <td>1.68</td>\n",
       "      <td>0.00</td>\n",
       "      <td>7.84</td>\n",
       "      <td>NaN</td>\n",
       "      <td>22.9</td>\n",
       "      <td>17.4</td>\n",
       "      <td>97.7</td>\n",
       "      <td>0.66</td>\n",
       "      <td>281.27</td>\n",
       "      <td>2.787357</td>\n",
       "    </tr>\n",
       "    <tr>\n",
       "      <th>MSFT</th>\n",
       "      <td>13.76</td>\n",
       "      <td>37.24</td>\n",
       "      <td>29.30</td>\n",
       "      <td>2.49</td>\n",
       "      <td>0.62</td>\n",
       "      <td>5.76</td>\n",
       "      <td>1.04</td>\n",
       "      <td>39.5</td>\n",
       "      <td>23.1</td>\n",
       "      <td>-14.1</td>\n",
       "      <td>0.10</td>\n",
       "      <td>216.42</td>\n",
       "      <td>2.661492</td>\n",
       "    </tr>\n",
       "  </tbody>\n",
       "</table>\n",
       "</div>"
      ],
      "text/plain": [
       "        P/B     P/E  Forward P/E   PEG  Debt/Eq  EPS (ttm)  Dividend %   ROE  \\\n",
       "AAPL  28.05   35.73        30.33  2.84     1.57       3.29        0.70  70.7   \n",
       "AMZN  21.82  123.66        72.49  3.43     0.69      26.02         NaN  20.5   \n",
       "GOOG   5.11   34.20        27.57  7.11      NaN      45.49         NaN   NaN   \n",
       "FB     6.90   34.14        26.27  1.68     0.00       7.84         NaN  22.9   \n",
       "MSFT  13.76   37.24        29.30  2.49     0.62       5.76        1.04  39.5   \n",
       "\n",
       "       ROI  EPS Q/Q  Insider Own    Price  EPS (ttm per $100)  \n",
       "AAPL  26.9     18.4         0.07   117.56            2.798571  \n",
       "AMZN  11.7     97.4        10.90  3201.00            0.812871  \n",
       "GOOG   NaN    -30.0         5.75  1605.67            2.833085  \n",
       "FB    17.4     97.7         0.66   281.27            2.787357  \n",
       "MSFT  23.1    -14.1         0.10   216.42            2.661492  "
      ]
     },
     "execution_count": 120,
     "metadata": {},
     "output_type": "execute_result"
    }
   ],
   "source": [
    "df[\"EPS (ttm per $100)\"] = df[\"EPS (ttm)\"] / df[\"Price\"] * 100\n",
    "df.head()"
   ]
  },
  {
   "cell_type": "markdown",
   "metadata": {},
   "source": [
    "# Features to analyse\n",
    "\n",
    "We'll select a subset of features to plot and analyse to avoid having outliers ruining the graph quality."
   ]
  },
  {
   "cell_type": "code",
   "execution_count": 133,
   "metadata": {},
   "outputs": [],
   "source": [
    "wanted_feats = [\n",
    "    'P/B', 'P/E', 'Forward P/E', 'PEG', 'Debt/Eq',\n",
    "    'Dividend %', 'ROE', 'ROI', 'Insider Own',\n",
    "    'EPS (ttm per $100)'\n",
    "]"
   ]
  },
  {
   "cell_type": "markdown",
   "metadata": {},
   "source": [
    "# Split into two different dataframes for easier manipulation"
   ]
  },
  {
   "cell_type": "code",
   "execution_count": 134,
   "metadata": {},
   "outputs": [],
   "source": [
    "fin_df = df[df.index.isin(financial_stocks)][wanted_feats]\n",
    "tech_df = df[df.index.isin(tech_stocks)][wanted_feats]"
   ]
  },
  {
   "cell_type": "markdown",
   "metadata": {},
   "source": [
    "# Boxplot\n",
    "\n",
    "![](https://miro.medium.com/max/700/1*NRlqiZGQdsIyAu0KzP7LaQ.png)\n",
    "\n",
    "The boxplot gives us a lot of information.\n",
    "\n",
    "It tells us about the **quartiles, outliers, median, minimum, maximum**."
   ]
  },
  {
   "cell_type": "markdown",
   "metadata": {},
   "source": [
    "# Tech Stocks Boxplot"
   ]
  },
  {
   "cell_type": "code",
   "execution_count": 135,
   "metadata": {},
   "outputs": [
    {
     "data": {
      "application/vnd.plotly.v1+json": {
       "config": {
        "plotlyServerURL": "https://plot.ly"
       },
       "data": [
        {
         "alignmentgroup": "True",
         "boxpoints": "all",
         "hovertemplate": "variable=%{x}<br>value=%{y}<extra></extra>",
         "legendgroup": "",
         "marker": {
          "color": "#F8766D"
         },
         "name": "",
         "notched": false,
         "offsetgroup": "",
         "orientation": "v",
         "showlegend": false,
         "type": "box",
         "x": [
          "P/B",
          "P/B",
          "P/B",
          "P/B",
          "P/B",
          "P/B",
          "P/B",
          "P/B",
          "P/B",
          "P/B",
          "P/B",
          "P/B",
          "P/E",
          "P/E",
          "P/E",
          "P/E",
          "P/E",
          "P/E",
          "P/E",
          "P/E",
          "P/E",
          "P/E",
          "P/E",
          "P/E",
          "Forward P/E",
          "Forward P/E",
          "Forward P/E",
          "Forward P/E",
          "Forward P/E",
          "Forward P/E",
          "Forward P/E",
          "Forward P/E",
          "Forward P/E",
          "Forward P/E",
          "Forward P/E",
          "Forward P/E",
          "PEG",
          "PEG",
          "PEG",
          "PEG",
          "PEG",
          "PEG",
          "PEG",
          "PEG",
          "PEG",
          "PEG",
          "PEG",
          "PEG",
          "Debt/Eq",
          "Debt/Eq",
          "Debt/Eq",
          "Debt/Eq",
          "Debt/Eq",
          "Debt/Eq",
          "Debt/Eq",
          "Debt/Eq",
          "Debt/Eq",
          "Debt/Eq",
          "Debt/Eq",
          "Debt/Eq",
          "Dividend %",
          "Dividend %",
          "Dividend %",
          "Dividend %",
          "Dividend %",
          "Dividend %",
          "Dividend %",
          "Dividend %",
          "Dividend %",
          "Dividend %",
          "Dividend %",
          "Dividend %",
          "ROE",
          "ROE",
          "ROE",
          "ROE",
          "ROE",
          "ROE",
          "ROE",
          "ROE",
          "ROE",
          "ROE",
          "ROE",
          "ROE",
          "ROI",
          "ROI",
          "ROI",
          "ROI",
          "ROI",
          "ROI",
          "ROI",
          "ROI",
          "ROI",
          "ROI",
          "ROI",
          "ROI",
          "Insider Own",
          "Insider Own",
          "Insider Own",
          "Insider Own",
          "Insider Own",
          "Insider Own",
          "Insider Own",
          "Insider Own",
          "Insider Own",
          "Insider Own",
          "Insider Own",
          "Insider Own",
          "EPS (ttm per $100)",
          "EPS (ttm per $100)",
          "EPS (ttm per $100)",
          "EPS (ttm per $100)",
          "EPS (ttm per $100)",
          "EPS (ttm per $100)",
          "EPS (ttm per $100)",
          "EPS (ttm per $100)",
          "EPS (ttm per $100)",
          "EPS (ttm per $100)",
          "EPS (ttm per $100)",
          "EPS (ttm per $100)"
         ],
         "x0": " ",
         "xaxis": "x",
         "y": [
          28.05,
          21.82,
          5.11,
          6.9,
          13.76,
          24.8,
          5.08,
          2.77,
          24.16,
          4.37,
          12.95,
          51.51,
          35.73,
          123.66,
          34.2,
          34.14,
          37.24,
          93.08,
          13.08,
          9.83,
          100.08,
          14.87,
          37.59,
          46.07,
          30.33,
          72.49,
          27.57,
          26.27,
          29.3,
          59.48,
          9.63,
          11.34,
          49.24,
          11.8,
          34.02,
          38.25,
          2.84,
          3.43,
          7.11,
          1.68,
          2.49,
          2.46,
          4.59,
          1.14,
          5.74,
          2.41,
          4.37,
          4.15,
          1.57,
          0.69,
          null,
          0,
          0.62,
          1.69,
          3.15,
          0.47,
          0,
          0.38,
          0.69,
          0,
          0.7,
          null,
          null,
          null,
          1.04,
          null,
          5.56,
          2.47,
          0.12,
          3.67,
          0.61,
          0.48,
          70.7,
          20.5,
          null,
          22.9,
          39.5,
          33.3,
          39.7,
          30.5,
          26.9,
          31.2,
          38.3,
          128.9,
          26.9,
          11.7,
          null,
          17.4,
          23.1,
          10.2,
          11.4,
          17.8,
          18.8,
          20.7,
          26.5,
          55.6,
          0.07,
          10.9,
          5.75,
          0.66,
          0.1,
          1.62,
          0.1,
          0.05,
          0.3,
          0.1,
          0.2,
          11.1,
          2.798570942497448,
          0.8128709778194314,
          2.8330852541306744,
          2.7873573434777974,
          2.6614915442195732,
          1.1490279020580818,
          7.748790601243953,
          10.079673892903465,
          1.0025016555073212,
          6.715848384634953,
          2.636723645295503,
          2.147907282002327
         ],
         "y0": " ",
         "yaxis": "y"
        }
       ],
       "layout": {
        "autosize": true,
        "boxmode": "group",
        "legend": {
         "tracegroupgap": 0
        },
        "margin": {
         "t": 60
        },
        "template": {
         "data": {
          "bar": [
           {
            "error_x": {
             "color": "rgb(51,51,51)"
            },
            "error_y": {
             "color": "rgb(51,51,51)"
            },
            "marker": {
             "line": {
              "color": "rgb(237,237,237)",
              "width": 0.5
             }
            },
            "type": "bar"
           }
          ],
          "barpolar": [
           {
            "marker": {
             "line": {
              "color": "rgb(237,237,237)",
              "width": 0.5
             }
            },
            "type": "barpolar"
           }
          ],
          "carpet": [
           {
            "aaxis": {
             "endlinecolor": "rgb(51,51,51)",
             "gridcolor": "white",
             "linecolor": "white",
             "minorgridcolor": "white",
             "startlinecolor": "rgb(51,51,51)"
            },
            "baxis": {
             "endlinecolor": "rgb(51,51,51)",
             "gridcolor": "white",
             "linecolor": "white",
             "minorgridcolor": "white",
             "startlinecolor": "rgb(51,51,51)"
            },
            "type": "carpet"
           }
          ],
          "choropleth": [
           {
            "colorbar": {
             "outlinewidth": 0,
             "tickcolor": "rgb(237,237,237)",
             "ticklen": 6,
             "ticks": "inside"
            },
            "type": "choropleth"
           }
          ],
          "contour": [
           {
            "colorbar": {
             "outlinewidth": 0,
             "tickcolor": "rgb(237,237,237)",
             "ticklen": 6,
             "ticks": "inside"
            },
            "colorscale": [
             [
              0,
              "rgb(20,44,66)"
             ],
             [
              1,
              "rgb(90,179,244)"
             ]
            ],
            "type": "contour"
           }
          ],
          "contourcarpet": [
           {
            "colorbar": {
             "outlinewidth": 0,
             "tickcolor": "rgb(237,237,237)",
             "ticklen": 6,
             "ticks": "inside"
            },
            "type": "contourcarpet"
           }
          ],
          "heatmap": [
           {
            "colorbar": {
             "outlinewidth": 0,
             "tickcolor": "rgb(237,237,237)",
             "ticklen": 6,
             "ticks": "inside"
            },
            "colorscale": [
             [
              0,
              "rgb(20,44,66)"
             ],
             [
              1,
              "rgb(90,179,244)"
             ]
            ],
            "type": "heatmap"
           }
          ],
          "heatmapgl": [
           {
            "colorbar": {
             "outlinewidth": 0,
             "tickcolor": "rgb(237,237,237)",
             "ticklen": 6,
             "ticks": "inside"
            },
            "colorscale": [
             [
              0,
              "rgb(20,44,66)"
             ],
             [
              1,
              "rgb(90,179,244)"
             ]
            ],
            "type": "heatmapgl"
           }
          ],
          "histogram": [
           {
            "marker": {
             "colorbar": {
              "outlinewidth": 0,
              "tickcolor": "rgb(237,237,237)",
              "ticklen": 6,
              "ticks": "inside"
             }
            },
            "type": "histogram"
           }
          ],
          "histogram2d": [
           {
            "colorbar": {
             "outlinewidth": 0,
             "tickcolor": "rgb(237,237,237)",
             "ticklen": 6,
             "ticks": "inside"
            },
            "colorscale": [
             [
              0,
              "rgb(20,44,66)"
             ],
             [
              1,
              "rgb(90,179,244)"
             ]
            ],
            "type": "histogram2d"
           }
          ],
          "histogram2dcontour": [
           {
            "colorbar": {
             "outlinewidth": 0,
             "tickcolor": "rgb(237,237,237)",
             "ticklen": 6,
             "ticks": "inside"
            },
            "colorscale": [
             [
              0,
              "rgb(20,44,66)"
             ],
             [
              1,
              "rgb(90,179,244)"
             ]
            ],
            "type": "histogram2dcontour"
           }
          ],
          "mesh3d": [
           {
            "colorbar": {
             "outlinewidth": 0,
             "tickcolor": "rgb(237,237,237)",
             "ticklen": 6,
             "ticks": "inside"
            },
            "type": "mesh3d"
           }
          ],
          "parcoords": [
           {
            "line": {
             "colorbar": {
              "outlinewidth": 0,
              "tickcolor": "rgb(237,237,237)",
              "ticklen": 6,
              "ticks": "inside"
             }
            },
            "type": "parcoords"
           }
          ],
          "pie": [
           {
            "automargin": true,
            "type": "pie"
           }
          ],
          "scatter": [
           {
            "marker": {
             "colorbar": {
              "outlinewidth": 0,
              "tickcolor": "rgb(237,237,237)",
              "ticklen": 6,
              "ticks": "inside"
             }
            },
            "type": "scatter"
           }
          ],
          "scatter3d": [
           {
            "line": {
             "colorbar": {
              "outlinewidth": 0,
              "tickcolor": "rgb(237,237,237)",
              "ticklen": 6,
              "ticks": "inside"
             }
            },
            "marker": {
             "colorbar": {
              "outlinewidth": 0,
              "tickcolor": "rgb(237,237,237)",
              "ticklen": 6,
              "ticks": "inside"
             }
            },
            "type": "scatter3d"
           }
          ],
          "scattercarpet": [
           {
            "marker": {
             "colorbar": {
              "outlinewidth": 0,
              "tickcolor": "rgb(237,237,237)",
              "ticklen": 6,
              "ticks": "inside"
             }
            },
            "type": "scattercarpet"
           }
          ],
          "scattergeo": [
           {
            "marker": {
             "colorbar": {
              "outlinewidth": 0,
              "tickcolor": "rgb(237,237,237)",
              "ticklen": 6,
              "ticks": "inside"
             }
            },
            "type": "scattergeo"
           }
          ],
          "scattergl": [
           {
            "marker": {
             "colorbar": {
              "outlinewidth": 0,
              "tickcolor": "rgb(237,237,237)",
              "ticklen": 6,
              "ticks": "inside"
             }
            },
            "type": "scattergl"
           }
          ],
          "scattermapbox": [
           {
            "marker": {
             "colorbar": {
              "outlinewidth": 0,
              "tickcolor": "rgb(237,237,237)",
              "ticklen": 6,
              "ticks": "inside"
             }
            },
            "type": "scattermapbox"
           }
          ],
          "scatterpolar": [
           {
            "marker": {
             "colorbar": {
              "outlinewidth": 0,
              "tickcolor": "rgb(237,237,237)",
              "ticklen": 6,
              "ticks": "inside"
             }
            },
            "type": "scatterpolar"
           }
          ],
          "scatterpolargl": [
           {
            "marker": {
             "colorbar": {
              "outlinewidth": 0,
              "tickcolor": "rgb(237,237,237)",
              "ticklen": 6,
              "ticks": "inside"
             }
            },
            "type": "scatterpolargl"
           }
          ],
          "scatterternary": [
           {
            "marker": {
             "colorbar": {
              "outlinewidth": 0,
              "tickcolor": "rgb(237,237,237)",
              "ticklen": 6,
              "ticks": "inside"
             }
            },
            "type": "scatterternary"
           }
          ],
          "surface": [
           {
            "colorbar": {
             "outlinewidth": 0,
             "tickcolor": "rgb(237,237,237)",
             "ticklen": 6,
             "ticks": "inside"
            },
            "colorscale": [
             [
              0,
              "rgb(20,44,66)"
             ],
             [
              1,
              "rgb(90,179,244)"
             ]
            ],
            "type": "surface"
           }
          ],
          "table": [
           {
            "cells": {
             "fill": {
              "color": "rgb(237,237,237)"
             },
             "line": {
              "color": "white"
             }
            },
            "header": {
             "fill": {
              "color": "rgb(217,217,217)"
             },
             "line": {
              "color": "white"
             }
            },
            "type": "table"
           }
          ]
         },
         "layout": {
          "annotationdefaults": {
           "arrowhead": 0,
           "arrowwidth": 1
          },
          "coloraxis": {
           "colorbar": {
            "outlinewidth": 0,
            "tickcolor": "rgb(237,237,237)",
            "ticklen": 6,
            "ticks": "inside"
           }
          },
          "colorscale": {
           "sequential": [
            [
             0,
             "rgb(20,44,66)"
            ],
            [
             1,
             "rgb(90,179,244)"
            ]
           ],
           "sequentialminus": [
            [
             0,
             "rgb(20,44,66)"
            ],
            [
             1,
             "rgb(90,179,244)"
            ]
           ]
          },
          "colorway": [
           "#F8766D",
           "#A3A500",
           "#00BF7D",
           "#00B0F6",
           "#E76BF3"
          ],
          "font": {
           "color": "rgb(51,51,51)"
          },
          "geo": {
           "bgcolor": "white",
           "lakecolor": "white",
           "landcolor": "rgb(237,237,237)",
           "showlakes": true,
           "showland": true,
           "subunitcolor": "white"
          },
          "hoverlabel": {
           "align": "left"
          },
          "hovermode": "closest",
          "paper_bgcolor": "white",
          "plot_bgcolor": "rgb(237,237,237)",
          "polar": {
           "angularaxis": {
            "gridcolor": "white",
            "linecolor": "white",
            "showgrid": true,
            "tickcolor": "rgb(51,51,51)",
            "ticks": "outside"
           },
           "bgcolor": "rgb(237,237,237)",
           "radialaxis": {
            "gridcolor": "white",
            "linecolor": "white",
            "showgrid": true,
            "tickcolor": "rgb(51,51,51)",
            "ticks": "outside"
           }
          },
          "scene": {
           "xaxis": {
            "backgroundcolor": "rgb(237,237,237)",
            "gridcolor": "white",
            "gridwidth": 2,
            "linecolor": "white",
            "showbackground": true,
            "showgrid": true,
            "tickcolor": "rgb(51,51,51)",
            "ticks": "outside",
            "zerolinecolor": "white"
           },
           "yaxis": {
            "backgroundcolor": "rgb(237,237,237)",
            "gridcolor": "white",
            "gridwidth": 2,
            "linecolor": "white",
            "showbackground": true,
            "showgrid": true,
            "tickcolor": "rgb(51,51,51)",
            "ticks": "outside",
            "zerolinecolor": "white"
           },
           "zaxis": {
            "backgroundcolor": "rgb(237,237,237)",
            "gridcolor": "white",
            "gridwidth": 2,
            "linecolor": "white",
            "showbackground": true,
            "showgrid": true,
            "tickcolor": "rgb(51,51,51)",
            "ticks": "outside",
            "zerolinecolor": "white"
           }
          },
          "shapedefaults": {
           "fillcolor": "black",
           "line": {
            "width": 0
           },
           "opacity": 0.3
          },
          "ternary": {
           "aaxis": {
            "gridcolor": "white",
            "linecolor": "white",
            "showgrid": true,
            "tickcolor": "rgb(51,51,51)",
            "ticks": "outside"
           },
           "baxis": {
            "gridcolor": "white",
            "linecolor": "white",
            "showgrid": true,
            "tickcolor": "rgb(51,51,51)",
            "ticks": "outside"
           },
           "bgcolor": "rgb(237,237,237)",
           "caxis": {
            "gridcolor": "white",
            "linecolor": "white",
            "showgrid": true,
            "tickcolor": "rgb(51,51,51)",
            "ticks": "outside"
           }
          },
          "xaxis": {
           "automargin": true,
           "gridcolor": "white",
           "linecolor": "white",
           "showgrid": true,
           "tickcolor": "rgb(51,51,51)",
           "ticks": "outside",
           "title": {
            "standoff": 15
           },
           "zerolinecolor": "white"
          },
          "yaxis": {
           "automargin": true,
           "gridcolor": "white",
           "linecolor": "white",
           "showgrid": true,
           "tickcolor": "rgb(51,51,51)",
           "ticks": "outside",
           "title": {
            "standoff": 15
           },
           "zerolinecolor": "white"
          }
         }
        },
        "xaxis": {
         "anchor": "y",
         "autorange": true,
         "domain": [
          0,
          1
         ],
         "range": [
          -0.5317796610169492,
          9.5
         ],
         "title": {
          "text": "variable"
         },
         "type": "category"
        },
        "yaxis": {
         "anchor": "x",
         "autorange": true,
         "domain": [
          0,
          1
         ],
         "range": [
          -7.161111111111111,
          136.06111111111113
         ],
         "title": {
          "text": "value"
         },
         "type": "linear"
        }
       }
      },
      "image/png": "[encoded data removed]",
      "text/html": [
       "<div>\n",
       "        \n",
       "        \n",
       "            <div id=\"425e6a77-c331-4e09-8f34-baba62a79839\" class=\"plotly-graph-div\" style=\"height:525px; width:100%;\"></div>\n",
       "            <script type=\"text/javascript\">\n",
       "                require([\"plotly\"], function(Plotly) {\n",
       "                    window.PLOTLYENV=window.PLOTLYENV || {};\n",
       "                    \n",
       "                if (document.getElementById(\"425e6a77-c331-4e09-8f34-baba62a79839\")) {\n",
       "                    Plotly.newPlot(\n",
       "                        '425e6a77-c331-4e09-8f34-baba62a79839',\n",
       "                        [{\"alignmentgroup\": \"True\", \"boxpoints\": \"all\", \"hovertemplate\": \"variable=%{x}<br>value=%{y}<extra></extra>\", \"legendgroup\": \"\", \"marker\": {\"color\": \"#F8766D\"}, \"name\": \"\", \"notched\": false, \"offsetgroup\": \"\", \"orientation\": \"v\", \"showlegend\": false, \"type\": \"box\", \"x\": [\"P/B\", \"P/B\", \"P/B\", \"P/B\", \"P/B\", \"P/B\", \"P/B\", \"P/B\", \"P/B\", \"P/B\", \"P/B\", \"P/B\", \"P/E\", \"P/E\", \"P/E\", \"P/E\", \"P/E\", \"P/E\", \"P/E\", \"P/E\", \"P/E\", \"P/E\", \"P/E\", \"P/E\", \"Forward P/E\", \"Forward P/E\", \"Forward P/E\", \"Forward P/E\", \"Forward P/E\", \"Forward P/E\", \"Forward P/E\", \"Forward P/E\", \"Forward P/E\", \"Forward P/E\", \"Forward P/E\", \"Forward P/E\", \"PEG\", \"PEG\", \"PEG\", \"PEG\", \"PEG\", \"PEG\", \"PEG\", \"PEG\", \"PEG\", \"PEG\", \"PEG\", \"PEG\", \"Debt/Eq\", \"Debt/Eq\", \"Debt/Eq\", \"Debt/Eq\", \"Debt/Eq\", \"Debt/Eq\", \"Debt/Eq\", \"Debt/Eq\", \"Debt/Eq\", \"Debt/Eq\", \"Debt/Eq\", \"Debt/Eq\", \"Dividend %\", \"Dividend %\", \"Dividend %\", \"Dividend %\", \"Dividend %\", \"Dividend %\", \"Dividend %\", \"Dividend %\", \"Dividend %\", \"Dividend %\", \"Dividend %\", \"Dividend %\", \"ROE\", \"ROE\", \"ROE\", \"ROE\", \"ROE\", \"ROE\", \"ROE\", \"ROE\", \"ROE\", \"ROE\", \"ROE\", \"ROE\", \"ROI\", \"ROI\", \"ROI\", \"ROI\", \"ROI\", \"ROI\", \"ROI\", \"ROI\", \"ROI\", \"ROI\", \"ROI\", \"ROI\", \"Insider Own\", \"Insider Own\", \"Insider Own\", \"Insider Own\", \"Insider Own\", \"Insider Own\", \"Insider Own\", \"Insider Own\", \"Insider Own\", \"Insider Own\", \"Insider Own\", \"Insider Own\", \"EPS (ttm per $100)\", \"EPS (ttm per $100)\", \"EPS (ttm per $100)\", \"EPS (ttm per $100)\", \"EPS (ttm per $100)\", \"EPS (ttm per $100)\", \"EPS (ttm per $100)\", \"EPS (ttm per $100)\", \"EPS (ttm per $100)\", \"EPS (ttm per $100)\", \"EPS (ttm per $100)\", \"EPS (ttm per $100)\"], \"x0\": \" \", \"xaxis\": \"x\", \"y\": [28.05, 21.82, 5.11, 6.9, 13.76, 24.8, 5.08, 2.77, 24.16, 4.37, 12.95, 51.51, 35.73, 123.66, 34.2, 34.14, 37.24, 93.08, 13.08, 9.83, 100.08, 14.87, 37.59, 46.07, 30.33, 72.49, 27.57, 26.27, 29.3, 59.48, 9.63, 11.34, 49.24, 11.8, 34.02, 38.25, 2.84, 3.43, 7.11, 1.68, 2.49, 2.46, 4.59, 1.14, 5.74, 2.41, 4.37, 4.15, 1.57, 0.69, null, 0.0, 0.62, 1.69, 3.15, 0.47, 0.0, 0.38, 0.69, 0.0, 0.7, null, null, null, 1.04, null, 5.56, 2.47, 0.12, 3.67, 0.61, 0.48, 70.7, 20.5, null, 22.9, 39.5, 33.3, 39.7, 30.5, 26.9, 31.2, 38.3, 128.9, 26.9, 11.7, null, 17.4, 23.1, 10.2, 11.4, 17.8, 18.8, 20.7, 26.5, 55.6, 0.07, 10.9, 5.75, 0.66, 0.1, 1.62, 0.1, 0.05, 0.3, 0.1, 0.2, 11.1, 2.798570942497448, 0.8128709778194314, 2.8330852541306744, 2.7873573434777974, 2.6614915442195732, 1.1490279020580818, 7.748790601243953, 10.079673892903465, 1.0025016555073212, 6.715848384634953, 2.636723645295503, 2.147907282002327], \"y0\": \" \", \"yaxis\": \"y\"}],\n",
       "                        {\"boxmode\": \"group\", \"legend\": {\"tracegroupgap\": 0}, \"margin\": {\"t\": 60}, \"template\": {\"data\": {\"bar\": [{\"error_x\": {\"color\": \"rgb(51,51,51)\"}, \"error_y\": {\"color\": \"rgb(51,51,51)\"}, \"marker\": {\"line\": {\"color\": \"rgb(237,237,237)\", \"width\": 0.5}}, \"type\": \"bar\"}], \"barpolar\": [{\"marker\": {\"line\": {\"color\": \"rgb(237,237,237)\", \"width\": 0.5}}, \"type\": \"barpolar\"}], \"carpet\": [{\"aaxis\": {\"endlinecolor\": \"rgb(51,51,51)\", \"gridcolor\": \"white\", \"linecolor\": \"white\", \"minorgridcolor\": \"white\", \"startlinecolor\": \"rgb(51,51,51)\"}, \"baxis\": {\"endlinecolor\": \"rgb(51,51,51)\", \"gridcolor\": \"white\", \"linecolor\": \"white\", \"minorgridcolor\": \"white\", \"startlinecolor\": \"rgb(51,51,51)\"}, \"type\": \"carpet\"}], \"choropleth\": [{\"colorbar\": {\"outlinewidth\": 0, \"tickcolor\": \"rgb(237,237,237)\", \"ticklen\": 6, \"ticks\": \"inside\"}, \"type\": \"choropleth\"}], \"contour\": [{\"colorbar\": {\"outlinewidth\": 0, \"tickcolor\": \"rgb(237,237,237)\", \"ticklen\": 6, \"ticks\": \"inside\"}, \"colorscale\": [[0, \"rgb(20,44,66)\"], [1, \"rgb(90,179,244)\"]], \"type\": \"contour\"}], \"contourcarpet\": [{\"colorbar\": {\"outlinewidth\": 0, \"tickcolor\": \"rgb(237,237,237)\", \"ticklen\": 6, \"ticks\": \"inside\"}, \"type\": \"contourcarpet\"}], \"heatmap\": [{\"colorbar\": {\"outlinewidth\": 0, \"tickcolor\": \"rgb(237,237,237)\", \"ticklen\": 6, \"ticks\": \"inside\"}, \"colorscale\": [[0, \"rgb(20,44,66)\"], [1, \"rgb(90,179,244)\"]], \"type\": \"heatmap\"}], \"heatmapgl\": [{\"colorbar\": {\"outlinewidth\": 0, \"tickcolor\": \"rgb(237,237,237)\", \"ticklen\": 6, \"ticks\": \"inside\"}, \"colorscale\": [[0, \"rgb(20,44,66)\"], [1, \"rgb(90,179,244)\"]], \"type\": \"heatmapgl\"}], \"histogram\": [{\"marker\": {\"colorbar\": {\"outlinewidth\": 0, \"tickcolor\": \"rgb(237,237,237)\", \"ticklen\": 6, \"ticks\": \"inside\"}}, \"type\": \"histogram\"}], \"histogram2d\": [{\"colorbar\": {\"outlinewidth\": 0, \"tickcolor\": \"rgb(237,237,237)\", \"ticklen\": 6, \"ticks\": \"inside\"}, \"colorscale\": [[0, \"rgb(20,44,66)\"], [1, \"rgb(90,179,244)\"]], \"type\": \"histogram2d\"}], \"histogram2dcontour\": [{\"colorbar\": {\"outlinewidth\": 0, \"tickcolor\": \"rgb(237,237,237)\", \"ticklen\": 6, \"ticks\": \"inside\"}, \"colorscale\": [[0, \"rgb(20,44,66)\"], [1, \"rgb(90,179,244)\"]], \"type\": \"histogram2dcontour\"}], \"mesh3d\": [{\"colorbar\": {\"outlinewidth\": 0, \"tickcolor\": \"rgb(237,237,237)\", \"ticklen\": 6, \"ticks\": \"inside\"}, \"type\": \"mesh3d\"}], \"parcoords\": [{\"line\": {\"colorbar\": {\"outlinewidth\": 0, \"tickcolor\": \"rgb(237,237,237)\", \"ticklen\": 6, \"ticks\": \"inside\"}}, \"type\": \"parcoords\"}], \"pie\": [{\"automargin\": true, \"type\": \"pie\"}], \"scatter\": [{\"marker\": {\"colorbar\": {\"outlinewidth\": 0, \"tickcolor\": \"rgb(237,237,237)\", \"ticklen\": 6, \"ticks\": \"inside\"}}, \"type\": \"scatter\"}], \"scatter3d\": [{\"line\": {\"colorbar\": {\"outlinewidth\": 0, \"tickcolor\": \"rgb(237,237,237)\", \"ticklen\": 6, \"ticks\": \"inside\"}}, \"marker\": {\"colorbar\": {\"outlinewidth\": 0, \"tickcolor\": \"rgb(237,237,237)\", \"ticklen\": 6, \"ticks\": \"inside\"}}, \"type\": \"scatter3d\"}], \"scattercarpet\": [{\"marker\": {\"colorbar\": {\"outlinewidth\": 0, \"tickcolor\": \"rgb(237,237,237)\", \"ticklen\": 6, \"ticks\": \"inside\"}}, \"type\": \"scattercarpet\"}], \"scattergeo\": [{\"marker\": {\"colorbar\": {\"outlinewidth\": 0, \"tickcolor\": \"rgb(237,237,237)\", \"ticklen\": 6, \"ticks\": \"inside\"}}, \"type\": \"scattergeo\"}], \"scattergl\": [{\"marker\": {\"colorbar\": {\"outlinewidth\": 0, \"tickcolor\": \"rgb(237,237,237)\", \"ticklen\": 6, \"ticks\": \"inside\"}}, \"type\": \"scattergl\"}], \"scattermapbox\": [{\"marker\": {\"colorbar\": {\"outlinewidth\": 0, \"tickcolor\": \"rgb(237,237,237)\", \"ticklen\": 6, \"ticks\": \"inside\"}}, \"type\": \"scattermapbox\"}], \"scatterpolar\": [{\"marker\": {\"colorbar\": {\"outlinewidth\": 0, \"tickcolor\": \"rgb(237,237,237)\", \"ticklen\": 6, \"ticks\": \"inside\"}}, \"type\": \"scatterpolar\"}], \"scatterpolargl\": [{\"marker\": {\"colorbar\": {\"outlinewidth\": 0, \"tickcolor\": \"rgb(237,237,237)\", \"ticklen\": 6, \"ticks\": \"inside\"}}, \"type\": \"scatterpolargl\"}], \"scatterternary\": [{\"marker\": {\"colorbar\": {\"outlinewidth\": 0, \"tickcolor\": \"rgb(237,237,237)\", \"ticklen\": 6, \"ticks\": \"inside\"}}, \"type\": \"scatterternary\"}], \"surface\": [{\"colorbar\": {\"outlinewidth\": 0, \"tickcolor\": \"rgb(237,237,237)\", \"ticklen\": 6, \"ticks\": \"inside\"}, \"colorscale\": [[0, \"rgb(20,44,66)\"], [1, \"rgb(90,179,244)\"]], \"type\": \"surface\"}], \"table\": [{\"cells\": {\"fill\": {\"color\": \"rgb(237,237,237)\"}, \"line\": {\"color\": \"white\"}}, \"header\": {\"fill\": {\"color\": \"rgb(217,217,217)\"}, \"line\": {\"color\": \"white\"}}, \"type\": \"table\"}]}, \"layout\": {\"annotationdefaults\": {\"arrowhead\": 0, \"arrowwidth\": 1}, \"coloraxis\": {\"colorbar\": {\"outlinewidth\": 0, \"tickcolor\": \"rgb(237,237,237)\", \"ticklen\": 6, \"ticks\": \"inside\"}}, \"colorscale\": {\"sequential\": [[0, \"rgb(20,44,66)\"], [1, \"rgb(90,179,244)\"]], \"sequentialminus\": [[0, \"rgb(20,44,66)\"], [1, \"rgb(90,179,244)\"]]}, \"colorway\": [\"#F8766D\", \"#A3A500\", \"#00BF7D\", \"#00B0F6\", \"#E76BF3\"], \"font\": {\"color\": \"rgb(51,51,51)\"}, \"geo\": {\"bgcolor\": \"white\", \"lakecolor\": \"white\", \"landcolor\": \"rgb(237,237,237)\", \"showlakes\": true, \"showland\": true, \"subunitcolor\": \"white\"}, \"hoverlabel\": {\"align\": \"left\"}, \"hovermode\": \"closest\", \"paper_bgcolor\": \"white\", \"plot_bgcolor\": \"rgb(237,237,237)\", \"polar\": {\"angularaxis\": {\"gridcolor\": \"white\", \"linecolor\": \"white\", \"showgrid\": true, \"tickcolor\": \"rgb(51,51,51)\", \"ticks\": \"outside\"}, \"bgcolor\": \"rgb(237,237,237)\", \"radialaxis\": {\"gridcolor\": \"white\", \"linecolor\": \"white\", \"showgrid\": true, \"tickcolor\": \"rgb(51,51,51)\", \"ticks\": \"outside\"}}, \"scene\": {\"xaxis\": {\"backgroundcolor\": \"rgb(237,237,237)\", \"gridcolor\": \"white\", \"gridwidth\": 2, \"linecolor\": \"white\", \"showbackground\": true, \"showgrid\": true, \"tickcolor\": \"rgb(51,51,51)\", \"ticks\": \"outside\", \"zerolinecolor\": \"white\"}, \"yaxis\": {\"backgroundcolor\": \"rgb(237,237,237)\", \"gridcolor\": \"white\", \"gridwidth\": 2, \"linecolor\": \"white\", \"showbackground\": true, \"showgrid\": true, \"tickcolor\": \"rgb(51,51,51)\", \"ticks\": \"outside\", \"zerolinecolor\": \"white\"}, \"zaxis\": {\"backgroundcolor\": \"rgb(237,237,237)\", \"gridcolor\": \"white\", \"gridwidth\": 2, \"linecolor\": \"white\", \"showbackground\": true, \"showgrid\": true, \"tickcolor\": \"rgb(51,51,51)\", \"ticks\": \"outside\", \"zerolinecolor\": \"white\"}}, \"shapedefaults\": {\"fillcolor\": \"black\", \"line\": {\"width\": 0}, \"opacity\": 0.3}, \"ternary\": {\"aaxis\": {\"gridcolor\": \"white\", \"linecolor\": \"white\", \"showgrid\": true, \"tickcolor\": \"rgb(51,51,51)\", \"ticks\": \"outside\"}, \"baxis\": {\"gridcolor\": \"white\", \"linecolor\": \"white\", \"showgrid\": true, \"tickcolor\": \"rgb(51,51,51)\", \"ticks\": \"outside\"}, \"bgcolor\": \"rgb(237,237,237)\", \"caxis\": {\"gridcolor\": \"white\", \"linecolor\": \"white\", \"showgrid\": true, \"tickcolor\": \"rgb(51,51,51)\", \"ticks\": \"outside\"}}, \"xaxis\": {\"automargin\": true, \"gridcolor\": \"white\", \"linecolor\": \"white\", \"showgrid\": true, \"tickcolor\": \"rgb(51,51,51)\", \"ticks\": \"outside\", \"title\": {\"standoff\": 15}, \"zerolinecolor\": \"white\"}, \"yaxis\": {\"automargin\": true, \"gridcolor\": \"white\", \"linecolor\": \"white\", \"showgrid\": true, \"tickcolor\": \"rgb(51,51,51)\", \"ticks\": \"outside\", \"title\": {\"standoff\": 15}, \"zerolinecolor\": \"white\"}}}, \"xaxis\": {\"anchor\": \"y\", \"domain\": [0.0, 1.0], \"title\": {\"text\": \"variable\"}}, \"yaxis\": {\"anchor\": \"x\", \"domain\": [0.0, 1.0], \"title\": {\"text\": \"value\"}}},\n",
       "                        {\"responsive\": true}\n",
       "                    ).then(function(){\n",
       "                            \n",
       "var gd = document.getElementById('425e6a77-c331-4e09-8f34-baba62a79839');\n",
       "var x = new MutationObserver(function (mutations, observer) {{\n",
       "        var display = window.getComputedStyle(gd).display;\n",
       "        if (!display || display === 'none') {{\n",
       "            console.log([gd, 'removed!']);\n",
       "            Plotly.purge(gd);\n",
       "            observer.disconnect();\n",
       "        }}\n",
       "}});\n",
       "\n",
       "// Listen for the removal of the full notebook cells\n",
       "var notebookContainer = gd.closest('#notebook-container');\n",
       "if (notebookContainer) {{\n",
       "    x.observe(notebookContainer, {childList: true});\n",
       "}}\n",
       "\n",
       "// Listen for the clearing of the current output cell\n",
       "var outputEl = gd.closest('.output');\n",
       "if (outputEl) {{\n",
       "    x.observe(outputEl, {childList: true});\n",
       "}}\n",
       "\n",
       "                        })\n",
       "                };\n",
       "                });\n",
       "            </script>\n",
       "        </div>"
      ]
     },
     "metadata": {},
     "output_type": "display_data"
    }
   ],
   "source": [
    "px.box(tech_df, points='all')"
   ]
  },
  {
   "cell_type": "markdown",
   "metadata": {},
   "source": [
    "# Financial Stocks Boxplot"
   ]
  },
  {
   "cell_type": "code",
   "execution_count": 137,
   "metadata": {},
   "outputs": [
    {
     "data": {
      "application/vnd.plotly.v1+json": {
       "config": {
        "plotlyServerURL": "https://plot.ly"
       },
       "data": [
        {
         "alignmentgroup": "True",
         "boxpoints": "all",
         "hovertemplate": "variable=%{x}<br>value=%{y}<extra></extra>",
         "legendgroup": "",
         "marker": {
          "color": "#F8766D"
         },
         "name": "",
         "notched": false,
         "offsetgroup": "",
         "orientation": "v",
         "showlegend": false,
         "type": "box",
         "x": [
          "P/B",
          "P/B",
          "P/B",
          "P/B",
          "P/B",
          "P/B",
          "P/B",
          "P/B",
          "P/B",
          "P/B",
          "P/B",
          "P/B",
          "P/E",
          "P/E",
          "P/E",
          "P/E",
          "P/E",
          "P/E",
          "P/E",
          "P/E",
          "P/E",
          "P/E",
          "P/E",
          "P/E",
          "Forward P/E",
          "Forward P/E",
          "Forward P/E",
          "Forward P/E",
          "Forward P/E",
          "Forward P/E",
          "Forward P/E",
          "Forward P/E",
          "Forward P/E",
          "Forward P/E",
          "Forward P/E",
          "Forward P/E",
          "PEG",
          "PEG",
          "PEG",
          "PEG",
          "PEG",
          "PEG",
          "PEG",
          "PEG",
          "PEG",
          "PEG",
          "PEG",
          "PEG",
          "Debt/Eq",
          "Debt/Eq",
          "Debt/Eq",
          "Debt/Eq",
          "Debt/Eq",
          "Debt/Eq",
          "Debt/Eq",
          "Debt/Eq",
          "Debt/Eq",
          "Debt/Eq",
          "Debt/Eq",
          "Debt/Eq",
          "Dividend %",
          "Dividend %",
          "Dividend %",
          "Dividend %",
          "Dividend %",
          "Dividend %",
          "Dividend %",
          "Dividend %",
          "Dividend %",
          "Dividend %",
          "Dividend %",
          "Dividend %",
          "ROE",
          "ROE",
          "ROE",
          "ROE",
          "ROE",
          "ROE",
          "ROE",
          "ROE",
          "ROE",
          "ROE",
          "ROE",
          "ROE",
          "ROI",
          "ROI",
          "ROI",
          "ROI",
          "ROI",
          "ROI",
          "ROI",
          "ROI",
          "ROI",
          "ROI",
          "ROI",
          "ROI",
          "Insider Own",
          "Insider Own",
          "Insider Own",
          "Insider Own",
          "Insider Own",
          "Insider Own",
          "Insider Own",
          "Insider Own",
          "Insider Own",
          "Insider Own",
          "Insider Own",
          "Insider Own",
          "EPS (ttm per $100)",
          "EPS (ttm per $100)",
          "EPS (ttm per $100)",
          "EPS (ttm per $100)",
          "EPS (ttm per $100)",
          "EPS (ttm per $100)",
          "EPS (ttm per $100)",
          "EPS (ttm per $100)",
          "EPS (ttm per $100)",
          "EPS (ttm per $100)",
          "EPS (ttm per $100)",
          "EPS (ttm per $100)"
         ],
         "x0": " ",
         "xaxis": "x",
         "y": [
          1.29,
          1.32,
          0.87,
          0.52,
          1.02,
          0.59,
          0.94,
          3.94,
          3.03,
          1.29,
          2.18,
          0.92,
          23.04,
          13.1,
          11.93,
          8.5,
          8.68,
          61.32,
          15.82,
          21.36,
          22.71,
          12.99,
          24.61,
          14.38,
          20.1,
          11.29,
          11.92,
          7.88,
          10.04,
          12.06,
          8.74,
          15.21,
          18.64,
          12.68,
          23.32,
          12.04,
          null,
          null,
          null,
          null,
          2.34,
          4.58,
          1.83,
          2.27,
          2.29,
          6.41,
          5.8,
          null,
          0.27,
          1.35,
          0,
          1.51,
          6.45,
          1.46,
          8.45,
          6.42,
          0.22,
          0.93,
          0.13,
          0.64,
          null,
          3.59,
          2.98,
          4.69,
          2.72,
          1.75,
          2.4,
          1.67,
          2.25,
          4.28,
          2.08,
          4.28,
          5.6,
          12.1,
          9.3,
          null,
          10.3,
          7.6,
          6,
          17.9,
          13.5,
          13.1,
          8.9,
          6.1,
          1.5,
          8.3,
          6,
          8.3,
          1.8,
          10.3,
          1.3,
          4.2,
          11.1,
          11.7,
          6.7,
          6,
          41.74,
          0.1,
          0.1,
          0.25,
          0.2,
          0.13,
          0.6,
          0.1,
          1.5,
          0.09,
          0.3,
          0.1,
          4.320457931390891,
          7.647000099830288,
          8.364389233954451,
          11.849109002545708,
          11.638861629048085,
          1.617132867132867,
          6.442288849696257,
          4.745995873047067,
          4.439928085671852,
          7.729715894548246,
          4.034810126582278,
          6.992840095465394
         ],
         "y0": " ",
         "yaxis": "y"
        }
       ],
       "layout": {
        "autosize": true,
        "boxmode": "group",
        "legend": {
         "tracegroupgap": 0
        },
        "margin": {
         "t": 60
        },
        "template": {
         "data": {
          "bar": [
           {
            "error_x": {
             "color": "rgb(51,51,51)"
            },
            "error_y": {
             "color": "rgb(51,51,51)"
            },
            "marker": {
             "line": {
              "color": "rgb(237,237,237)",
              "width": 0.5
             }
            },
            "type": "bar"
           }
          ],
          "barpolar": [
           {
            "marker": {
             "line": {
              "color": "rgb(237,237,237)",
              "width": 0.5
             }
            },
            "type": "barpolar"
           }
          ],
          "carpet": [
           {
            "aaxis": {
             "endlinecolor": "rgb(51,51,51)",
             "gridcolor": "white",
             "linecolor": "white",
             "minorgridcolor": "white",
             "startlinecolor": "rgb(51,51,51)"
            },
            "baxis": {
             "endlinecolor": "rgb(51,51,51)",
             "gridcolor": "white",
             "linecolor": "white",
             "minorgridcolor": "white",
             "startlinecolor": "rgb(51,51,51)"
            },
            "type": "carpet"
           }
          ],
          "choropleth": [
           {
            "colorbar": {
             "outlinewidth": 0,
             "tickcolor": "rgb(237,237,237)",
             "ticklen": 6,
             "ticks": "inside"
            },
            "type": "choropleth"
           }
          ],
          "contour": [
           {
            "colorbar": {
             "outlinewidth": 0,
             "tickcolor": "rgb(237,237,237)",
             "ticklen": 6,
             "ticks": "inside"
            },
            "colorscale": [
             [
              0,
              "rgb(20,44,66)"
             ],
             [
              1,
              "rgb(90,179,244)"
             ]
            ],
            "type": "contour"
           }
          ],
          "contourcarpet": [
           {
            "colorbar": {
             "outlinewidth": 0,
             "tickcolor": "rgb(237,237,237)",
             "ticklen": 6,
             "ticks": "inside"
            },
            "type": "contourcarpet"
           }
          ],
          "heatmap": [
           {
            "colorbar": {
             "outlinewidth": 0,
             "tickcolor": "rgb(237,237,237)",
             "ticklen": 6,
             "ticks": "inside"
            },
            "colorscale": [
             [
              0,
              "rgb(20,44,66)"
             ],
             [
              1,
              "rgb(90,179,244)"
             ]
            ],
            "type": "heatmap"
           }
          ],
          "heatmapgl": [
           {
            "colorbar": {
             "outlinewidth": 0,
             "tickcolor": "rgb(237,237,237)",
             "ticklen": 6,
             "ticks": "inside"
            },
            "colorscale": [
             [
              0,
              "rgb(20,44,66)"
             ],
             [
              1,
              "rgb(90,179,244)"
             ]
            ],
            "type": "heatmapgl"
           }
          ],
          "histogram": [
           {
            "marker": {
             "colorbar": {
              "outlinewidth": 0,
              "tickcolor": "rgb(237,237,237)",
              "ticklen": 6,
              "ticks": "inside"
             }
            },
            "type": "histogram"
           }
          ],
          "histogram2d": [
           {
            "colorbar": {
             "outlinewidth": 0,
             "tickcolor": "rgb(237,237,237)",
             "ticklen": 6,
             "ticks": "inside"
            },
            "colorscale": [
             [
              0,
              "rgb(20,44,66)"
             ],
             [
              1,
              "rgb(90,179,244)"
             ]
            ],
            "type": "histogram2d"
           }
          ],
          "histogram2dcontour": [
           {
            "colorbar": {
             "outlinewidth": 0,
             "tickcolor": "rgb(237,237,237)",
             "ticklen": 6,
             "ticks": "inside"
            },
            "colorscale": [
             [
              0,
              "rgb(20,44,66)"
             ],
             [
              1,
              "rgb(90,179,244)"
             ]
            ],
            "type": "histogram2dcontour"
           }
          ],
          "mesh3d": [
           {
            "colorbar": {
             "outlinewidth": 0,
             "tickcolor": "rgb(237,237,237)",
             "ticklen": 6,
             "ticks": "inside"
            },
            "type": "mesh3d"
           }
          ],
          "parcoords": [
           {
            "line": {
             "colorbar": {
              "outlinewidth": 0,
              "tickcolor": "rgb(237,237,237)",
              "ticklen": 6,
              "ticks": "inside"
             }
            },
            "type": "parcoords"
           }
          ],
          "pie": [
           {
            "automargin": true,
            "type": "pie"
           }
          ],
          "scatter": [
           {
            "marker": {
             "colorbar": {
              "outlinewidth": 0,
              "tickcolor": "rgb(237,237,237)",
              "ticklen": 6,
              "ticks": "inside"
             }
            },
            "type": "scatter"
           }
          ],
          "scatter3d": [
           {
            "line": {
             "colorbar": {
              "outlinewidth": 0,
              "tickcolor": "rgb(237,237,237)",
              "ticklen": 6,
              "ticks": "inside"
             }
            },
            "marker": {
             "colorbar": {
              "outlinewidth": 0,
              "tickcolor": "rgb(237,237,237)",
              "ticklen": 6,
              "ticks": "inside"
             }
            },
            "type": "scatter3d"
           }
          ],
          "scattercarpet": [
           {
            "marker": {
             "colorbar": {
              "outlinewidth": 0,
              "tickcolor": "rgb(237,237,237)",
              "ticklen": 6,
              "ticks": "inside"
             }
            },
            "type": "scattercarpet"
           }
          ],
          "scattergeo": [
           {
            "marker": {
             "colorbar": {
              "outlinewidth": 0,
              "tickcolor": "rgb(237,237,237)",
              "ticklen": 6,
              "ticks": "inside"
             }
            },
            "type": "scattergeo"
           }
          ],
          "scattergl": [
           {
            "marker": {
             "colorbar": {
              "outlinewidth": 0,
              "tickcolor": "rgb(237,237,237)",
              "ticklen": 6,
              "ticks": "inside"
             }
            },
            "type": "scattergl"
           }
          ],
          "scattermapbox": [
           {
            "marker": {
             "colorbar": {
              "outlinewidth": 0,
              "tickcolor": "rgb(237,237,237)",
              "ticklen": 6,
              "ticks": "inside"
             }
            },
            "type": "scattermapbox"
           }
          ],
          "scatterpolar": [
           {
            "marker": {
             "colorbar": {
              "outlinewidth": 0,
              "tickcolor": "rgb(237,237,237)",
              "ticklen": 6,
              "ticks": "inside"
             }
            },
            "type": "scatterpolar"
           }
          ],
          "scatterpolargl": [
           {
            "marker": {
             "colorbar": {
              "outlinewidth": 0,
              "tickcolor": "rgb(237,237,237)",
              "ticklen": 6,
              "ticks": "inside"
             }
            },
            "type": "scatterpolargl"
           }
          ],
          "scatterternary": [
           {
            "marker": {
             "colorbar": {
              "outlinewidth": 0,
              "tickcolor": "rgb(237,237,237)",
              "ticklen": 6,
              "ticks": "inside"
             }
            },
            "type": "scatterternary"
           }
          ],
          "surface": [
           {
            "colorbar": {
             "outlinewidth": 0,
             "tickcolor": "rgb(237,237,237)",
             "ticklen": 6,
             "ticks": "inside"
            },
            "colorscale": [
             [
              0,
              "rgb(20,44,66)"
             ],
             [
              1,
              "rgb(90,179,244)"
             ]
            ],
            "type": "surface"
           }
          ],
          "table": [
           {
            "cells": {
             "fill": {
              "color": "rgb(237,237,237)"
             },
             "line": {
              "color": "white"
             }
            },
            "header": {
             "fill": {
              "color": "rgb(217,217,217)"
             },
             "line": {
              "color": "white"
             }
            },
            "type": "table"
           }
          ]
         },
         "layout": {
          "annotationdefaults": {
           "arrowhead": 0,
           "arrowwidth": 1
          },
          "coloraxis": {
           "colorbar": {
            "outlinewidth": 0,
            "tickcolor": "rgb(237,237,237)",
            "ticklen": 6,
            "ticks": "inside"
           }
          },
          "colorscale": {
           "sequential": [
            [
             0,
             "rgb(20,44,66)"
            ],
            [
             1,
             "rgb(90,179,244)"
            ]
           ],
           "sequentialminus": [
            [
             0,
             "rgb(20,44,66)"
            ],
            [
             1,
             "rgb(90,179,244)"
            ]
           ]
          },
          "colorway": [
           "#F8766D",
           "#A3A500",
           "#00BF7D",
           "#00B0F6",
           "#E76BF3"
          ],
          "font": {
           "color": "rgb(51,51,51)"
          },
          "geo": {
           "bgcolor": "white",
           "lakecolor": "white",
           "landcolor": "rgb(237,237,237)",
           "showlakes": true,
           "showland": true,
           "subunitcolor": "white"
          },
          "hoverlabel": {
           "align": "left"
          },
          "hovermode": "closest",
          "paper_bgcolor": "white",
          "plot_bgcolor": "rgb(237,237,237)",
          "polar": {
           "angularaxis": {
            "gridcolor": "white",
            "linecolor": "white",
            "showgrid": true,
            "tickcolor": "rgb(51,51,51)",
            "ticks": "outside"
           },
           "bgcolor": "rgb(237,237,237)",
           "radialaxis": {
            "gridcolor": "white",
            "linecolor": "white",
            "showgrid": true,
            "tickcolor": "rgb(51,51,51)",
            "ticks": "outside"
           }
          },
          "scene": {
           "xaxis": {
            "backgroundcolor": "rgb(237,237,237)",
            "gridcolor": "white",
            "gridwidth": 2,
            "linecolor": "white",
            "showbackground": true,
            "showgrid": true,
            "tickcolor": "rgb(51,51,51)",
            "ticks": "outside",
            "zerolinecolor": "white"
           },
           "yaxis": {
            "backgroundcolor": "rgb(237,237,237)",
            "gridcolor": "white",
            "gridwidth": 2,
            "linecolor": "white",
            "showbackground": true,
            "showgrid": true,
            "tickcolor": "rgb(51,51,51)",
            "ticks": "outside",
            "zerolinecolor": "white"
           },
           "zaxis": {
            "backgroundcolor": "rgb(237,237,237)",
            "gridcolor": "white",
            "gridwidth": 2,
            "linecolor": "white",
            "showbackground": true,
            "showgrid": true,
            "tickcolor": "rgb(51,51,51)",
            "ticks": "outside",
            "zerolinecolor": "white"
           }
          },
          "shapedefaults": {
           "fillcolor": "black",
           "line": {
            "width": 0
           },
           "opacity": 0.3
          },
          "ternary": {
           "aaxis": {
            "gridcolor": "white",
            "linecolor": "white",
            "showgrid": true,
            "tickcolor": "rgb(51,51,51)",
            "ticks": "outside"
           },
           "baxis": {
            "gridcolor": "white",
            "linecolor": "white",
            "showgrid": true,
            "tickcolor": "rgb(51,51,51)",
            "ticks": "outside"
           },
           "bgcolor": "rgb(237,237,237)",
           "caxis": {
            "gridcolor": "white",
            "linecolor": "white",
            "showgrid": true,
            "tickcolor": "rgb(51,51,51)",
            "ticks": "outside"
           }
          },
          "xaxis": {
           "automargin": true,
           "gridcolor": "white",
           "linecolor": "white",
           "showgrid": true,
           "tickcolor": "rgb(51,51,51)",
           "ticks": "outside",
           "title": {
            "standoff": 15
           },
           "zerolinecolor": "white"
          },
          "yaxis": {
           "automargin": true,
           "gridcolor": "white",
           "linecolor": "white",
           "showgrid": true,
           "tickcolor": "rgb(51,51,51)",
           "ticks": "outside",
           "title": {
            "standoff": 15
           },
           "zerolinecolor": "white"
          }
         }
        },
        "xaxis": {
         "anchor": "y",
         "autorange": true,
         "domain": [
          0,
          1
         ],
         "range": [
          -0.5317796610169492,
          9.5
         ],
         "title": {
          "text": "variable"
         },
         "type": "category"
        },
        "yaxis": {
         "anchor": "x",
         "autorange": true,
         "domain": [
          0,
          1
         ],
         "range": [
          -3.4066666666666667,
          64.72666666666667
         ],
         "title": {
          "text": "value"
         },
         "type": "linear"
        }
       }
      },
      "image/png": "[encoded data removed]",
      "text/html": [
       "<div>\n",
       "        \n",
       "        \n",
       "            <div id=\"cab7108e-f409-4e42-a9bb-4072e0e0dac0\" class=\"plotly-graph-div\" style=\"height:525px; width:100%;\"></div>\n",
       "            <script type=\"text/javascript\">\n",
       "                require([\"plotly\"], function(Plotly) {\n",
       "                    window.PLOTLYENV=window.PLOTLYENV || {};\n",
       "                    \n",
       "                if (document.getElementById(\"cab7108e-f409-4e42-a9bb-4072e0e0dac0\")) {\n",
       "                    Plotly.newPlot(\n",
       "                        'cab7108e-f409-4e42-a9bb-4072e0e0dac0',\n",
       "                        [{\"alignmentgroup\": \"True\", \"boxpoints\": \"all\", \"hovertemplate\": \"variable=%{x}<br>value=%{y}<extra></extra>\", \"legendgroup\": \"\", \"marker\": {\"color\": \"#F8766D\"}, \"name\": \"\", \"notched\": false, \"offsetgroup\": \"\", \"orientation\": \"v\", \"showlegend\": false, \"type\": \"box\", \"x\": [\"P/B\", \"P/B\", \"P/B\", \"P/B\", \"P/B\", \"P/B\", \"P/B\", \"P/B\", \"P/B\", \"P/B\", \"P/B\", \"P/B\", \"P/E\", \"P/E\", \"P/E\", \"P/E\", \"P/E\", \"P/E\", \"P/E\", \"P/E\", \"P/E\", \"P/E\", \"P/E\", \"P/E\", \"Forward P/E\", \"Forward P/E\", \"Forward P/E\", \"Forward P/E\", \"Forward P/E\", \"Forward P/E\", \"Forward P/E\", \"Forward P/E\", \"Forward P/E\", \"Forward P/E\", \"Forward P/E\", \"Forward P/E\", \"PEG\", \"PEG\", \"PEG\", \"PEG\", \"PEG\", \"PEG\", \"PEG\", \"PEG\", \"PEG\", \"PEG\", \"PEG\", \"PEG\", \"Debt/Eq\", \"Debt/Eq\", \"Debt/Eq\", \"Debt/Eq\", \"Debt/Eq\", \"Debt/Eq\", \"Debt/Eq\", \"Debt/Eq\", \"Debt/Eq\", \"Debt/Eq\", \"Debt/Eq\", \"Debt/Eq\", \"Dividend %\", \"Dividend %\", \"Dividend %\", \"Dividend %\", \"Dividend %\", \"Dividend %\", \"Dividend %\", \"Dividend %\", \"Dividend %\", \"Dividend %\", \"Dividend %\", \"Dividend %\", \"ROE\", \"ROE\", \"ROE\", \"ROE\", \"ROE\", \"ROE\", \"ROE\", \"ROE\", \"ROE\", \"ROE\", \"ROE\", \"ROE\", \"ROI\", \"ROI\", \"ROI\", \"ROI\", \"ROI\", \"ROI\", \"ROI\", \"ROI\", \"ROI\", \"ROI\", \"ROI\", \"ROI\", \"Insider Own\", \"Insider Own\", \"Insider Own\", \"Insider Own\", \"Insider Own\", \"Insider Own\", \"Insider Own\", \"Insider Own\", \"Insider Own\", \"Insider Own\", \"Insider Own\", \"Insider Own\", \"EPS (ttm per $100)\", \"EPS (ttm per $100)\", \"EPS (ttm per $100)\", \"EPS (ttm per $100)\", \"EPS (ttm per $100)\", \"EPS (ttm per $100)\", \"EPS (ttm per $100)\", \"EPS (ttm per $100)\", \"EPS (ttm per $100)\", \"EPS (ttm per $100)\", \"EPS (ttm per $100)\", \"EPS (ttm per $100)\"], \"x0\": \" \", \"xaxis\": \"x\", \"y\": [1.29, 1.32, 0.87, 0.52, 1.02, 0.59, 0.94, 3.94, 3.03, 1.29, 2.18, 0.92, 23.04, 13.1, 11.93, 8.5, 8.68, 61.32, 15.82, 21.36, 22.71, 12.99, 24.61, 14.38, 20.1, 11.29, 11.92, 7.88, 10.04, 12.06, 8.74, 15.21, 18.64, 12.68, 23.32, 12.04, null, null, null, null, 2.34, 4.58, 1.83, 2.27, 2.29, 6.41, 5.8, null, 0.27, 1.35, 0.0, 1.51, 6.45, 1.46, 8.45, 6.42, 0.22, 0.93, 0.13, 0.64, null, 3.59, 2.98, 4.69, 2.72, 1.75, 2.4, 1.67, 2.25, 4.28, 2.08, 4.28, 5.6, 12.1, 9.3, null, 10.3, 7.6, 6.0, 17.9, 13.5, 13.1, 8.9, 6.1, 1.5, 8.3, 6.0, 8.3, 1.8, 10.3, 1.3, 4.2, 11.1, 11.7, 6.7, 6.0, 41.74, 0.1, 0.1, 0.25, 0.2, 0.13, 0.6, 0.1, 1.5, 0.09, 0.3, 0.1, 4.320457931390891, 7.647000099830288, 8.364389233954451, 11.849109002545708, 11.638861629048085, 1.617132867132867, 6.442288849696257, 4.745995873047067, 4.439928085671852, 7.729715894548246, 4.034810126582278, 6.992840095465394], \"y0\": \" \", \"yaxis\": \"y\"}],\n",
       "                        {\"boxmode\": \"group\", \"legend\": {\"tracegroupgap\": 0}, \"margin\": {\"t\": 60}, \"template\": {\"data\": {\"bar\": [{\"error_x\": {\"color\": \"rgb(51,51,51)\"}, \"error_y\": {\"color\": \"rgb(51,51,51)\"}, \"marker\": {\"line\": {\"color\": \"rgb(237,237,237)\", \"width\": 0.5}}, \"type\": \"bar\"}], \"barpolar\": [{\"marker\": {\"line\": {\"color\": \"rgb(237,237,237)\", \"width\": 0.5}}, \"type\": \"barpolar\"}], \"carpet\": [{\"aaxis\": {\"endlinecolor\": \"rgb(51,51,51)\", \"gridcolor\": \"white\", \"linecolor\": \"white\", \"minorgridcolor\": \"white\", \"startlinecolor\": \"rgb(51,51,51)\"}, \"baxis\": {\"endlinecolor\": \"rgb(51,51,51)\", \"gridcolor\": \"white\", \"linecolor\": \"white\", \"minorgridcolor\": \"white\", \"startlinecolor\": \"rgb(51,51,51)\"}, \"type\": \"carpet\"}], \"choropleth\": [{\"colorbar\": {\"outlinewidth\": 0, \"tickcolor\": \"rgb(237,237,237)\", \"ticklen\": 6, \"ticks\": \"inside\"}, \"type\": \"choropleth\"}], \"contour\": [{\"colorbar\": {\"outlinewidth\": 0, \"tickcolor\": \"rgb(237,237,237)\", \"ticklen\": 6, \"ticks\": \"inside\"}, \"colorscale\": [[0, \"rgb(20,44,66)\"], [1, \"rgb(90,179,244)\"]], \"type\": \"contour\"}], \"contourcarpet\": [{\"colorbar\": {\"outlinewidth\": 0, \"tickcolor\": \"rgb(237,237,237)\", \"ticklen\": 6, \"ticks\": \"inside\"}, \"type\": \"contourcarpet\"}], \"heatmap\": [{\"colorbar\": {\"outlinewidth\": 0, \"tickcolor\": \"rgb(237,237,237)\", \"ticklen\": 6, \"ticks\": \"inside\"}, \"colorscale\": [[0, \"rgb(20,44,66)\"], [1, \"rgb(90,179,244)\"]], \"type\": \"heatmap\"}], \"heatmapgl\": [{\"colorbar\": {\"outlinewidth\": 0, \"tickcolor\": \"rgb(237,237,237)\", \"ticklen\": 6, \"ticks\": \"inside\"}, \"colorscale\": [[0, \"rgb(20,44,66)\"], [1, \"rgb(90,179,244)\"]], \"type\": \"heatmapgl\"}], \"histogram\": [{\"marker\": {\"colorbar\": {\"outlinewidth\": 0, \"tickcolor\": \"rgb(237,237,237)\", \"ticklen\": 6, \"ticks\": \"inside\"}}, \"type\": \"histogram\"}], \"histogram2d\": [{\"colorbar\": {\"outlinewidth\": 0, \"tickcolor\": \"rgb(237,237,237)\", \"ticklen\": 6, \"ticks\": \"inside\"}, \"colorscale\": [[0, \"rgb(20,44,66)\"], [1, \"rgb(90,179,244)\"]], \"type\": \"histogram2d\"}], \"histogram2dcontour\": [{\"colorbar\": {\"outlinewidth\": 0, \"tickcolor\": \"rgb(237,237,237)\", \"ticklen\": 6, \"ticks\": \"inside\"}, \"colorscale\": [[0, \"rgb(20,44,66)\"], [1, \"rgb(90,179,244)\"]], \"type\": \"histogram2dcontour\"}], \"mesh3d\": [{\"colorbar\": {\"outlinewidth\": 0, \"tickcolor\": \"rgb(237,237,237)\", \"ticklen\": 6, \"ticks\": \"inside\"}, \"type\": \"mesh3d\"}], \"parcoords\": [{\"line\": {\"colorbar\": {\"outlinewidth\": 0, \"tickcolor\": \"rgb(237,237,237)\", \"ticklen\": 6, \"ticks\": \"inside\"}}, \"type\": \"parcoords\"}], \"pie\": [{\"automargin\": true, \"type\": \"pie\"}], \"scatter\": [{\"marker\": {\"colorbar\": {\"outlinewidth\": 0, \"tickcolor\": \"rgb(237,237,237)\", \"ticklen\": 6, \"ticks\": \"inside\"}}, \"type\": \"scatter\"}], \"scatter3d\": [{\"line\": {\"colorbar\": {\"outlinewidth\": 0, \"tickcolor\": \"rgb(237,237,237)\", \"ticklen\": 6, \"ticks\": \"inside\"}}, \"marker\": {\"colorbar\": {\"outlinewidth\": 0, \"tickcolor\": \"rgb(237,237,237)\", \"ticklen\": 6, \"ticks\": \"inside\"}}, \"type\": \"scatter3d\"}], \"scattercarpet\": [{\"marker\": {\"colorbar\": {\"outlinewidth\": 0, \"tickcolor\": \"rgb(237,237,237)\", \"ticklen\": 6, \"ticks\": \"inside\"}}, \"type\": \"scattercarpet\"}], \"scattergeo\": [{\"marker\": {\"colorbar\": {\"outlinewidth\": 0, \"tickcolor\": \"rgb(237,237,237)\", \"ticklen\": 6, \"ticks\": \"inside\"}}, \"type\": \"scattergeo\"}], \"scattergl\": [{\"marker\": {\"colorbar\": {\"outlinewidth\": 0, \"tickcolor\": \"rgb(237,237,237)\", \"ticklen\": 6, \"ticks\": \"inside\"}}, \"type\": \"scattergl\"}], \"scattermapbox\": [{\"marker\": {\"colorbar\": {\"outlinewidth\": 0, \"tickcolor\": \"rgb(237,237,237)\", \"ticklen\": 6, \"ticks\": \"inside\"}}, \"type\": \"scattermapbox\"}], \"scatterpolar\": [{\"marker\": {\"colorbar\": {\"outlinewidth\": 0, \"tickcolor\": \"rgb(237,237,237)\", \"ticklen\": 6, \"ticks\": \"inside\"}}, \"type\": \"scatterpolar\"}], \"scatterpolargl\": [{\"marker\": {\"colorbar\": {\"outlinewidth\": 0, \"tickcolor\": \"rgb(237,237,237)\", \"ticklen\": 6, \"ticks\": \"inside\"}}, \"type\": \"scatterpolargl\"}], \"scatterternary\": [{\"marker\": {\"colorbar\": {\"outlinewidth\": 0, \"tickcolor\": \"rgb(237,237,237)\", \"ticklen\": 6, \"ticks\": \"inside\"}}, \"type\": \"scatterternary\"}], \"surface\": [{\"colorbar\": {\"outlinewidth\": 0, \"tickcolor\": \"rgb(237,237,237)\", \"ticklen\": 6, \"ticks\": \"inside\"}, \"colorscale\": [[0, \"rgb(20,44,66)\"], [1, \"rgb(90,179,244)\"]], \"type\": \"surface\"}], \"table\": [{\"cells\": {\"fill\": {\"color\": \"rgb(237,237,237)\"}, \"line\": {\"color\": \"white\"}}, \"header\": {\"fill\": {\"color\": \"rgb(217,217,217)\"}, \"line\": {\"color\": \"white\"}}, \"type\": \"table\"}]}, \"layout\": {\"annotationdefaults\": {\"arrowhead\": 0, \"arrowwidth\": 1}, \"coloraxis\": {\"colorbar\": {\"outlinewidth\": 0, \"tickcolor\": \"rgb(237,237,237)\", \"ticklen\": 6, \"ticks\": \"inside\"}}, \"colorscale\": {\"sequential\": [[0, \"rgb(20,44,66)\"], [1, \"rgb(90,179,244)\"]], \"sequentialminus\": [[0, \"rgb(20,44,66)\"], [1, \"rgb(90,179,244)\"]]}, \"colorway\": [\"#F8766D\", \"#A3A500\", \"#00BF7D\", \"#00B0F6\", \"#E76BF3\"], \"font\": {\"color\": \"rgb(51,51,51)\"}, \"geo\": {\"bgcolor\": \"white\", \"lakecolor\": \"white\", \"landcolor\": \"rgb(237,237,237)\", \"showlakes\": true, \"showland\": true, \"subunitcolor\": \"white\"}, \"hoverlabel\": {\"align\": \"left\"}, \"hovermode\": \"closest\", \"paper_bgcolor\": \"white\", \"plot_bgcolor\": \"rgb(237,237,237)\", \"polar\": {\"angularaxis\": {\"gridcolor\": \"white\", \"linecolor\": \"white\", \"showgrid\": true, \"tickcolor\": \"rgb(51,51,51)\", \"ticks\": \"outside\"}, \"bgcolor\": \"rgb(237,237,237)\", \"radialaxis\": {\"gridcolor\": \"white\", \"linecolor\": \"white\", \"showgrid\": true, \"tickcolor\": \"rgb(51,51,51)\", \"ticks\": \"outside\"}}, \"scene\": {\"xaxis\": {\"backgroundcolor\": \"rgb(237,237,237)\", \"gridcolor\": \"white\", \"gridwidth\": 2, \"linecolor\": \"white\", \"showbackground\": true, \"showgrid\": true, \"tickcolor\": \"rgb(51,51,51)\", \"ticks\": \"outside\", \"zerolinecolor\": \"white\"}, \"yaxis\": {\"backgroundcolor\": \"rgb(237,237,237)\", \"gridcolor\": \"white\", \"gridwidth\": 2, \"linecolor\": \"white\", \"showbackground\": true, \"showgrid\": true, \"tickcolor\": \"rgb(51,51,51)\", \"ticks\": \"outside\", \"zerolinecolor\": \"white\"}, \"zaxis\": {\"backgroundcolor\": \"rgb(237,237,237)\", \"gridcolor\": \"white\", \"gridwidth\": 2, \"linecolor\": \"white\", \"showbackground\": true, \"showgrid\": true, \"tickcolor\": \"rgb(51,51,51)\", \"ticks\": \"outside\", \"zerolinecolor\": \"white\"}}, \"shapedefaults\": {\"fillcolor\": \"black\", \"line\": {\"width\": 0}, \"opacity\": 0.3}, \"ternary\": {\"aaxis\": {\"gridcolor\": \"white\", \"linecolor\": \"white\", \"showgrid\": true, \"tickcolor\": \"rgb(51,51,51)\", \"ticks\": \"outside\"}, \"baxis\": {\"gridcolor\": \"white\", \"linecolor\": \"white\", \"showgrid\": true, \"tickcolor\": \"rgb(51,51,51)\", \"ticks\": \"outside\"}, \"bgcolor\": \"rgb(237,237,237)\", \"caxis\": {\"gridcolor\": \"white\", \"linecolor\": \"white\", \"showgrid\": true, \"tickcolor\": \"rgb(51,51,51)\", \"ticks\": \"outside\"}}, \"xaxis\": {\"automargin\": true, \"gridcolor\": \"white\", \"linecolor\": \"white\", \"showgrid\": true, \"tickcolor\": \"rgb(51,51,51)\", \"ticks\": \"outside\", \"title\": {\"standoff\": 15}, \"zerolinecolor\": \"white\"}, \"yaxis\": {\"automargin\": true, \"gridcolor\": \"white\", \"linecolor\": \"white\", \"showgrid\": true, \"tickcolor\": \"rgb(51,51,51)\", \"ticks\": \"outside\", \"title\": {\"standoff\": 15}, \"zerolinecolor\": \"white\"}}}, \"xaxis\": {\"anchor\": \"y\", \"domain\": [0.0, 1.0], \"title\": {\"text\": \"variable\"}}, \"yaxis\": {\"anchor\": \"x\", \"domain\": [0.0, 1.0], \"title\": {\"text\": \"value\"}}},\n",
       "                        {\"responsive\": true}\n",
       "                    ).then(function(){\n",
       "                            \n",
       "var gd = document.getElementById('cab7108e-f409-4e42-a9bb-4072e0e0dac0');\n",
       "var x = new MutationObserver(function (mutations, observer) {{\n",
       "        var display = window.getComputedStyle(gd).display;\n",
       "        if (!display || display === 'none') {{\n",
       "            console.log([gd, 'removed!']);\n",
       "            Plotly.purge(gd);\n",
       "            observer.disconnect();\n",
       "        }}\n",
       "}});\n",
       "\n",
       "// Listen for the removal of the full notebook cells\n",
       "var notebookContainer = gd.closest('#notebook-container');\n",
       "if (notebookContainer) {{\n",
       "    x.observe(notebookContainer, {childList: true});\n",
       "}}\n",
       "\n",
       "// Listen for the clearing of the current output cell\n",
       "var outputEl = gd.closest('.output');\n",
       "if (outputEl) {{\n",
       "    x.observe(outputEl, {childList: true});\n",
       "}}\n",
       "\n",
       "                        })\n",
       "                };\n",
       "                });\n",
       "            </script>\n",
       "        </div>"
      ]
     },
     "metadata": {},
     "output_type": "display_data"
    }
   ],
   "source": [
    "px.box(fin_df, points='all')"
   ]
  },
  {
   "cell_type": "markdown",
   "metadata": {},
   "source": [
    "# P/B: Price to Book Ratio\n",
    "\n",
    "The price-to-book ratio or P/B ratio measures whether a stock is over or undervalued by comparing the net value (assets - liabilities) of a company to its market capitalization.    \n",
    "The reason the ratio is important to value investors is that it shows the difference between the market value of a company's stock and its book value.   \n",
    "A P/B ratio of 1 means the underlying stock is trading at nearly book value. \n",
    "\n",
    "* Values higher than 1 could mean the company is being overselled.\n",
    "* Values below 1 oftentimes mean a company is trading under its stated book value, which could mean an opportunity\n",
    "\n",
    "Note how P/B metrics varies largely between different industries. The tech industry would seem extremelly overvalued if compared to the financial industry. But is it? "
   ]
  },
  {
   "cell_type": "code",
   "execution_count": 8,
   "metadata": {},
   "outputs": [
    {
     "data": {
      "image/png": "[encoded data removed]",
      "text/plain": [
       "<Figure size 1080x576 with 1 Axes>"
      ]
     },
     "metadata": {},
     "output_type": "display_data"
    }
   ],
   "source": [
    "plot_metric(df, 'P/B')"
   ]
  },
  {
   "cell_type": "markdown",
   "metadata": {},
   "source": [
    "# Price to Book Earnings"
   ]
  },
  {
   "cell_type": "code",
   "execution_count": 9,
   "metadata": {},
   "outputs": [
    {
     "data": {
      "image/png": "[encoded data removed]",
      "text/plain": [
       "<Figure size 1080x576 with 1 Axes>"
      ]
     },
     "metadata": {},
     "output_type": "display_data"
    }
   ],
   "source": [
    "plot_metric(df, 'P/E')"
   ]
  },
  {
   "cell_type": "markdown",
   "metadata": {},
   "source": [
    "# Price to Earnings-to-Growth Ratio"
   ]
  },
  {
   "cell_type": "code",
   "execution_count": 10,
   "metadata": {},
   "outputs": [
    {
     "data": {
      "image/png": "[encoded data removed]",
      "text/plain": [
       "<Figure size 1080x576 with 1 Axes>"
      ]
     },
     "metadata": {},
     "output_type": "display_data"
    }
   ],
   "source": [
    "plot_metric(df, 'PEG')"
   ]
  },
  {
   "cell_type": "markdown",
   "metadata": {},
   "source": [
    "# Forward Price-to-Earnings Ratio"
   ]
  },
  {
   "cell_type": "code",
   "execution_count": 11,
   "metadata": {},
   "outputs": [
    {
     "data": {
      "image/png": "[encoded data removed]",
      "text/plain": [
       "<Figure size 1080x576 with 1 Axes>"
      ]
     },
     "metadata": {},
     "output_type": "display_data"
    }
   ],
   "source": [
    "plot_metric(df, 'Forward P/E')"
   ]
  },
  {
   "cell_type": "markdown",
   "metadata": {},
   "source": [
    "# Debt-To-Equity Ratio"
   ]
  },
  {
   "cell_type": "code",
   "execution_count": 12,
   "metadata": {},
   "outputs": [
    {
     "data": {
      "image/png": "[encoded data removed]",
      "text/plain": [
       "<Figure size 1080x576 with 1 Axes>"
      ]
     },
     "metadata": {},
     "output_type": "display_data"
    }
   ],
   "source": [
    "plot_metric(df, 'Debt/Eq')"
   ]
  },
  {
   "cell_type": "markdown",
   "metadata": {},
   "source": [
    "# Return on Equity"
   ]
  },
  {
   "cell_type": "code",
   "execution_count": 13,
   "metadata": {},
   "outputs": [
    {
     "data": {
      "image/png": "[encoded data removed]",
      "text/plain": [
       "<Figure size 1080x576 with 1 Axes>"
      ]
     },
     "metadata": {},
     "output_type": "display_data"
    }
   ],
   "source": [
    "plot_metric(df, 'ROE')"
   ]
  },
  {
   "cell_type": "markdown",
   "metadata": {},
   "source": [
    "# Return on Investment"
   ]
  },
  {
   "cell_type": "code",
   "execution_count": 14,
   "metadata": {},
   "outputs": [
    {
     "data": {
      "image/png": "[encoded data removed]",
      "text/plain": [
       "<Figure size 1080x576 with 1 Axes>"
      ]
     },
     "metadata": {},
     "output_type": "display_data"
    }
   ],
   "source": [
    "plot_metric(df, 'ROI')"
   ]
  },
  {
   "cell_type": "markdown",
   "metadata": {},
   "source": [
    "# Insider Ownership"
   ]
  },
  {
   "cell_type": "code",
   "execution_count": 15,
   "metadata": {},
   "outputs": [
    {
     "data": {
      "image/png": "[encoded data removed]",
      "text/plain": [
       "<Figure size 1080x576 with 1 Axes>"
      ]
     },
     "metadata": {},
     "output_type": "display_data"
    }
   ],
   "source": [
    "plot_metric(df, 'Insider Own')"
   ]
  },
  {
   "cell_type": "code",
   "execution_count": 53,
   "metadata": {},
   "outputs": [
    {
     "data": {
      "image/png": "[encoded data removed]",
      "text/plain": [
       "<Figure size 1080x576 with 1 Axes>"
      ]
     },
     "metadata": {},
     "output_type": "display_data"
    }
   ],
   "source": [
    "plot_metric(df, 'EPS (ttm)')"
   ]
  },
  {
   "cell_type": "code",
   "execution_count": 54,
   "metadata": {},
   "outputs": [
    {
     "data": {
      "text/html": [
       "<div>\n",
       "<style scoped>\n",
       "    .dataframe tbody tr th:only-of-type {\n",
       "        vertical-align: middle;\n",
       "    }\n",
       "\n",
       "    .dataframe tbody tr th {\n",
       "        vertical-align: top;\n",
       "    }\n",
       "\n",
       "    .dataframe thead th {\n",
       "        text-align: right;\n",
       "    }\n",
       "</style>\n",
       "<table border=\"1\" class=\"dataframe\">\n",
       "  <thead>\n",
       "    <tr style=\"text-align: right;\">\n",
       "      <th></th>\n",
       "      <th>P/B</th>\n",
       "      <th>P/E</th>\n",
       "      <th>Forward P/E</th>\n",
       "      <th>PEG</th>\n",
       "      <th>Debt/Eq</th>\n",
       "      <th>EPS (ttm)</th>\n",
       "      <th>Dividend %</th>\n",
       "      <th>ROE</th>\n",
       "      <th>ROI</th>\n",
       "      <th>EPS Q/Q</th>\n",
       "      <th>Insider Own</th>\n",
       "    </tr>\n",
       "  </thead>\n",
       "  <tbody>\n",
       "    <tr>\n",
       "      <th>BRK-A</th>\n",
       "      <td>1.29</td>\n",
       "      <td>23.04</td>\n",
       "      <td>20.10</td>\n",
       "      <td>NaN</td>\n",
       "      <td>0.27</td>\n",
       "      <td>13690.62</td>\n",
       "      <td>NaN</td>\n",
       "      <td>5.6</td>\n",
       "      <td>1.5</td>\n",
       "      <td>89.5</td>\n",
       "      <td>41.74</td>\n",
       "    </tr>\n",
       "    <tr>\n",
       "      <th>JPM</th>\n",
       "      <td>1.32</td>\n",
       "      <td>13.10</td>\n",
       "      <td>11.29</td>\n",
       "      <td>NaN</td>\n",
       "      <td>1.35</td>\n",
       "      <td>7.66</td>\n",
       "      <td>3.59</td>\n",
       "      <td>12.1</td>\n",
       "      <td>8.3</td>\n",
       "      <td>-50.9</td>\n",
       "      <td>0.10</td>\n",
       "    </tr>\n",
       "    <tr>\n",
       "      <th>BAC</th>\n",
       "      <td>0.87</td>\n",
       "      <td>11.93</td>\n",
       "      <td>11.92</td>\n",
       "      <td>NaN</td>\n",
       "      <td>0.00</td>\n",
       "      <td>2.02</td>\n",
       "      <td>2.98</td>\n",
       "      <td>9.3</td>\n",
       "      <td>6.0</td>\n",
       "      <td>-49.6</td>\n",
       "      <td>0.10</td>\n",
       "    </tr>\n",
       "    <tr>\n",
       "      <th>C</th>\n",
       "      <td>0.52</td>\n",
       "      <td>8.50</td>\n",
       "      <td>7.88</td>\n",
       "      <td>NaN</td>\n",
       "      <td>1.51</td>\n",
       "      <td>5.12</td>\n",
       "      <td>4.69</td>\n",
       "      <td>NaN</td>\n",
       "      <td>8.3</td>\n",
       "      <td>-87.1</td>\n",
       "      <td>0.25</td>\n",
       "    </tr>\n",
       "    <tr>\n",
       "      <th>MS</th>\n",
       "      <td>1.02</td>\n",
       "      <td>8.68</td>\n",
       "      <td>10.04</td>\n",
       "      <td>2.34</td>\n",
       "      <td>6.45</td>\n",
       "      <td>5.93</td>\n",
       "      <td>2.72</td>\n",
       "      <td>10.3</td>\n",
       "      <td>1.8</td>\n",
       "      <td>59.5</td>\n",
       "      <td>0.20</td>\n",
       "    </tr>\n",
       "    <tr>\n",
       "      <th>WFC</th>\n",
       "      <td>0.59</td>\n",
       "      <td>61.32</td>\n",
       "      <td>12.06</td>\n",
       "      <td>4.58</td>\n",
       "      <td>1.46</td>\n",
       "      <td>0.37</td>\n",
       "      <td>1.75</td>\n",
       "      <td>7.6</td>\n",
       "      <td>10.3</td>\n",
       "      <td>-150.4</td>\n",
       "      <td>0.13</td>\n",
       "    </tr>\n",
       "    <tr>\n",
       "      <th>GS</th>\n",
       "      <td>0.94</td>\n",
       "      <td>15.82</td>\n",
       "      <td>8.74</td>\n",
       "      <td>1.83</td>\n",
       "      <td>8.45</td>\n",
       "      <td>13.15</td>\n",
       "      <td>2.40</td>\n",
       "      <td>6.0</td>\n",
       "      <td>1.3</td>\n",
       "      <td>-90.5</td>\n",
       "      <td>0.60</td>\n",
       "    </tr>\n",
       "    <tr>\n",
       "      <th>AXP</th>\n",
       "      <td>3.94</td>\n",
       "      <td>21.36</td>\n",
       "      <td>15.21</td>\n",
       "      <td>2.27</td>\n",
       "      <td>6.42</td>\n",
       "      <td>4.83</td>\n",
       "      <td>1.67</td>\n",
       "      <td>17.9</td>\n",
       "      <td>4.2</td>\n",
       "      <td>-85.7</td>\n",
       "      <td>0.10</td>\n",
       "    </tr>\n",
       "    <tr>\n",
       "      <th>BLK</th>\n",
       "      <td>3.03</td>\n",
       "      <td>22.71</td>\n",
       "      <td>18.64</td>\n",
       "      <td>2.29</td>\n",
       "      <td>0.22</td>\n",
       "      <td>28.40</td>\n",
       "      <td>2.25</td>\n",
       "      <td>13.5</td>\n",
       "      <td>11.1</td>\n",
       "      <td>22.3</td>\n",
       "      <td>1.50</td>\n",
       "    </tr>\n",
       "    <tr>\n",
       "      <th>USB</th>\n",
       "      <td>1.29</td>\n",
       "      <td>12.99</td>\n",
       "      <td>12.68</td>\n",
       "      <td>6.41</td>\n",
       "      <td>0.93</td>\n",
       "      <td>3.02</td>\n",
       "      <td>4.28</td>\n",
       "      <td>13.1</td>\n",
       "      <td>11.7</td>\n",
       "      <td>-62.7</td>\n",
       "      <td>0.09</td>\n",
       "    </tr>\n",
       "    <tr>\n",
       "      <th>CME</th>\n",
       "      <td>2.18</td>\n",
       "      <td>24.61</td>\n",
       "      <td>23.32</td>\n",
       "      <td>5.80</td>\n",
       "      <td>0.13</td>\n",
       "      <td>6.63</td>\n",
       "      <td>2.08</td>\n",
       "      <td>8.9</td>\n",
       "      <td>6.7</td>\n",
       "      <td>-2.1</td>\n",
       "      <td>0.30</td>\n",
       "    </tr>\n",
       "    <tr>\n",
       "      <th>TFC</th>\n",
       "      <td>0.92</td>\n",
       "      <td>14.38</td>\n",
       "      <td>12.04</td>\n",
       "      <td>NaN</td>\n",
       "      <td>0.64</td>\n",
       "      <td>2.93</td>\n",
       "      <td>4.28</td>\n",
       "      <td>6.1</td>\n",
       "      <td>6.0</td>\n",
       "      <td>-38.8</td>\n",
       "      <td>0.10</td>\n",
       "    </tr>\n",
       "  </tbody>\n",
       "</table>\n",
       "</div>"
      ],
      "text/plain": [
       "        P/B    P/E  Forward P/E   PEG  Debt/Eq  EPS (ttm)  Dividend %   ROE  \\\n",
       "BRK-A  1.29  23.04        20.10   NaN     0.27   13690.62         NaN   5.6   \n",
       "JPM    1.32  13.10        11.29   NaN     1.35       7.66        3.59  12.1   \n",
       "BAC    0.87  11.93        11.92   NaN     0.00       2.02        2.98   9.3   \n",
       "C      0.52   8.50         7.88   NaN     1.51       5.12        4.69   NaN   \n",
       "MS     1.02   8.68        10.04  2.34     6.45       5.93        2.72  10.3   \n",
       "WFC    0.59  61.32        12.06  4.58     1.46       0.37        1.75   7.6   \n",
       "GS     0.94  15.82         8.74  1.83     8.45      13.15        2.40   6.0   \n",
       "AXP    3.94  21.36        15.21  2.27     6.42       4.83        1.67  17.9   \n",
       "BLK    3.03  22.71        18.64  2.29     0.22      28.40        2.25  13.5   \n",
       "USB    1.29  12.99        12.68  6.41     0.93       3.02        4.28  13.1   \n",
       "CME    2.18  24.61        23.32  5.80     0.13       6.63        2.08   8.9   \n",
       "TFC    0.92  14.38        12.04   NaN     0.64       2.93        4.28   6.1   \n",
       "\n",
       "        ROI  EPS Q/Q  Insider Own  \n",
       "BRK-A   1.5     89.5        41.74  \n",
       "JPM     8.3    -50.9         0.10  \n",
       "BAC     6.0    -49.6         0.10  \n",
       "C       8.3    -87.1         0.25  \n",
       "MS      1.8     59.5         0.20  \n",
       "WFC    10.3   -150.4         0.13  \n",
       "GS      1.3    -90.5         0.60  \n",
       "AXP     4.2    -85.7         0.10  \n",
       "BLK    11.1     22.3         1.50  \n",
       "USB    11.7    -62.7         0.09  \n",
       "CME     6.7     -2.1         0.30  \n",
       "TFC     6.0    -38.8         0.10  "
      ]
     },
     "execution_count": 54,
     "metadata": {},
     "output_type": "execute_result"
    }
   ],
   "source": [
    "fin_df"
   ]
  },
  {
   "cell_type": "markdown",
   "metadata": {},
   "source": [
    "# Correlation Matrix\n",
    "\n",
    "Clearly from the graphs above we can see that some metrics are very correlated with each other.\n",
    "\n",
    "We'll use the Pearson correlation coeffiecient to see more clearly which metrics are positively or negatively correlated."
   ]
  },
  {
   "cell_type": "code",
   "execution_count": 16,
   "metadata": {},
   "outputs": [
    {
     "data": {
      "image/png": "[encoded data removed]",
      "text/plain": [
       "<Figure size 1080x576 with 2 Axes>"
      ]
     },
     "metadata": {},
     "output_type": "display_data"
    }
   ],
   "source": [
    "corr = df.corr()\n",
    "plot_correlation(corr, corr.index, normalized=False)"
   ]
  }
 ],
 "metadata": {
  "kernelspec": {
   "display_name": "Python 3",
   "language": "python",
   "name": "python3"
  },
  "language_info": {
   "codemirror_mode": {
    "name": "ipython",
    "version": 3
   },
   "file_extension": ".py",
   "mimetype": "text/x-python",
   "name": "python",
   "nbconvert_exporter": "python",
   "pygments_lexer": "ipython3",
   "version": "3.8.5"
  }
 },
 "nbformat": 4,
 "nbformat_minor": 4
}
